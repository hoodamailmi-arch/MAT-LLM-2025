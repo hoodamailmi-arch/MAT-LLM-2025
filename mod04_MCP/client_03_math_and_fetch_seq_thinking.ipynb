{
 "cells": [
  {
   "cell_type": "markdown",
   "id": "bc2e950d",
   "metadata": {},
   "source": [
    "# MCP Client in Jupyter Notebook\n",
    "This notebook demonstrates how to connect to an MCP math server and use LangChain tools."
   ]
  },
  {
   "cell_type": "code",
   "execution_count": 1,
   "id": "62d7d0f1",
   "metadata": {},
   "outputs": [],
   "source": [
    "import sys\n",
    "import asyncio\n",
    "from mcp import ClientSession, StdioServerParameters\n",
    "from mcp.client.stdio import stdio_client\n",
    "from langchain_mcp_adapters.tools import load_mcp_tools\n",
    "from langgraph.prebuilt import create_react_agent\n",
    "\n",
    "async def run_mcp(chat_history=None):\n",
    "    math_params = StdioServerParameters(\n",
    "        command=sys.executable,\n",
    "        args=[\"d:\\\\MAT496-Monsoon2025\\\\mod04_MCP\\\\servers\\\\math_server.py\"],\n",
    "    )\n",
    "    fetch_params = StdioServerParameters(\n",
    "        command=sys.executable,\n",
    "        args=[\"-m\", \"mcp_server_fetch\"],  # assumes installed via pip\n",
    "    )\n",
    "    sequentialthinking_params = StdioServerParameters(\n",
    "        command=\"npx\",\n",
    "        args=[\"-y\", \"@modelcontextprotocol/server-sequential-thinking\"],  # requires Node.js and npx\n",
    "    )\n",
    "\n",
    "    async with stdio_client(math_params, errlog=None) as (math_read, math_write), \\\n",
    "               stdio_client(fetch_params, errlog=None) as (fetch_read, fetch_write), \\\n",
    "               stdio_client(sequentialthinking_params, errlog=None) as (seq_read, seq_write):\n",
    "        async with ClientSession(math_read, math_write) as math_session, \\\n",
    "                   ClientSession(fetch_read, fetch_write) as fetch_session, \\\n",
    "                   ClientSession(seq_read, seq_write) as seq_session:\n",
    "            await math_session.initialize()\n",
    "            await fetch_session.initialize()\n",
    "            await seq_session.initialize()\n",
    "            math_tools = await load_mcp_tools(math_session)\n",
    "            fetch_tools = await load_mcp_tools(fetch_session)\n",
    "            seq_tools = await load_mcp_tools(seq_session)\n",
    "            tools = math_tools + fetch_tools + seq_tools\n",
    "            agent = create_react_agent(\"groq:openai/gpt-oss-120b\", tools)\n",
    "            result = await agent.ainvoke(chat_history)\n",
    "            return result"
   ]
  },
  {
   "cell_type": "code",
   "execution_count": 2,
   "id": "a213ef46",
   "metadata": {},
   "outputs": [
    {
     "data": {
      "text/plain": [
       "{'messages': [HumanMessage(content='hi?', additional_kwargs={}, response_metadata={}, id='1b26801d-abbe-4197-b4e5-c7ea121b2595'),\n",
       "  AIMessage(content='Hello! How can I help you today?', additional_kwargs={'reasoning_content': 'User just says \"hi?\" Probably greeting. Should respond friendly.'}, response_metadata={'token_usage': {'completion_tokens': 32, 'prompt_tokens': 1035, 'total_tokens': 1067, 'completion_time': 0.063677376, 'prompt_time': 0.037959891, 'queue_time': 0.054026699, 'total_time': 0.101637267}, 'model_name': 'openai/gpt-oss-120b', 'system_fingerprint': 'fp_ed9190d8b7', 'service_tier': 'on_demand', 'finish_reason': 'stop', 'logprobs': None}, id='run--6cb28768-7a9e-480f-b6b0-16120a2bacdb-0', usage_metadata={'input_tokens': 1035, 'output_tokens': 32, 'total_tokens': 1067})]}"
      ]
     },
     "execution_count": 2,
     "metadata": {},
     "output_type": "execute_result"
    }
   ],
   "source": [
    "chat_history = {\"messages\": [{\"role\": \"user\", \"content\": \"hi?\"}]}\n",
    "\n",
    "chat_history = await run_mcp(chat_history)\n",
    "chat_history"
   ]
  },
  {
   "cell_type": "code",
   "execution_count": 3,
   "id": "1bd9b57c",
   "metadata": {},
   "outputs": [
    {
     "data": {
      "text/plain": [
       "{'messages': [HumanMessage(content='hi?', additional_kwargs={}, response_metadata={}, id='1b26801d-abbe-4197-b4e5-c7ea121b2595'),\n",
       "  AIMessage(content='Hello! How can I help you today?', additional_kwargs={'reasoning_content': 'User just says \"hi?\" Probably greeting. Should respond friendly.'}, response_metadata={'token_usage': {'completion_tokens': 32, 'prompt_tokens': 1035, 'total_tokens': 1067, 'completion_time': 0.063677376, 'prompt_time': 0.037959891, 'queue_time': 0.054026699, 'total_time': 0.101637267}, 'model_name': 'openai/gpt-oss-120b', 'system_fingerprint': 'fp_ed9190d8b7', 'service_tier': 'on_demand', 'finish_reason': 'stop', 'logprobs': None}, id='run--6cb28768-7a9e-480f-b6b0-16120a2bacdb-0', usage_metadata={'input_tokens': 1035, 'output_tokens': 32, 'total_tokens': 1067}),\n",
       "  HumanMessage(content=\"Go the the site https://krajit.github.io/ and find Ajit's email address\", additional_kwargs={}, response_metadata={}, id='175e038a-f15e-44df-8903-3590dae8ce25'),\n",
       "  AIMessage(content='', additional_kwargs={'reasoning_content': \"We need to fetch the site and locate Ajit's email address. Use fetch tool.\", 'tool_calls': [{'id': 'fc_15506777-5b54-4945-a7cf-d4bdfb3da5ca', 'function': {'arguments': '{\"max_length\":5000,\"raw\":false,\"url\":\"https://krajit.github.io/\"}', 'name': 'fetch'}, 'type': 'function'}]}, response_metadata={'token_usage': {'completion_tokens': 65, 'prompt_tokens': 1072, 'total_tokens': 1137, 'completion_time': 0.131694573, 'prompt_time': 0.04411978, 'queue_time': 0.403774619, 'total_time': 0.175814353}, 'model_name': 'openai/gpt-oss-120b', 'system_fingerprint': 'fp_82669fd91d', 'service_tier': 'on_demand', 'finish_reason': 'tool_calls', 'logprobs': None}, id='run--26f42f4d-c621-43f8-a5db-ef1285492b14-0', tool_calls=[{'name': 'fetch', 'args': {'max_length': 5000, 'raw': False, 'url': 'https://krajit.github.io/'}, 'id': 'fc_15506777-5b54-4945-a7cf-d4bdfb3da5ca', 'type': 'tool_call'}], usage_metadata={'input_tokens': 1072, 'output_tokens': 65, 'total_tokens': 1137}),\n",
       "  ToolMessage(content='Contents of https://krajit.github.io/:\\nAjit Kr @ SNIOE\\n\\n# Ajit Kumar\\n\\nAssistant Professor, Mathematics\\n\\nEmail: ajit.kumar@snu.edu.in\\n\\nOffice: Room A111a\\n\\n## About Me\\n\\nHello, and welcome to my homepage! As a faculty member, my primary expertise lies in teaching Applied Mathematics courses. I enjoy developing applications and writing code to solve real-world problems. Recently, my work has focused on projects involving Machine Learning and AI-related topics. Apart from research and teaching, I am involved in some projects which aim to fill few gaps in our education system. These include designing effective study habits and developing innovative tools for delivering impactful courses.\\n\\n## Recent Projects and Initiatives\\n\\n| Area | Details | Skills used / learned | Duration |\\n| --- | --- | --- | --- |\\n| Reinforcement Learning | Intelligent Game agents creation in the Unity Gaming Engine | MLAgents | 2024–ongoing |\\n| Reinforcement Learning | Develop Automatic stocks trader | Tensordrade, Rllib, TensorFlow, Python | 2022–current |\\n| Reinforcement Learning | Trained a model to figure out Gym’s Frozen Lake paths Code: GitHub Link | Python, Torch, RLlib | 2022 |\\n| AI, Machine Learning | Face Recognition App for Office Attendance Code: Link to be added | Python, JavaScript, HTML, Node.js, Flask, Heroku | 2021 |\\n| AI, Machine Learning | Automatic Detection of Infected Cells Code: Will be published after the paper is accepted | YOLO, TensorFlow, Python, Object Detection | 2021 |\\n| Python Consultancy | Trained Govt officers in basic Python usage (Cabinet Secretariat, Govt of India) | Python | Nov–Dec 2020 |\\n| CFD, Auto Diff | Shape optimization using autodiff Code: GitHub Link | C++, CMake | 2019–20 |\\n| CFD | Adaptive Overset Mesh in OpenFoam Code: GitHub Link | OpenFOAM, C++ | 2019 |\\n| CFD | sixDOF solver in OpenFOAM Code: GitHub Link | OpenFOAM, C++ | 2019–20 |\\n| Timetabling | Automated timetable with Unitime Unitime Site | SQL, Unix, SSH | 2019–current |\\n| Timetabling | Timetable generation with FET Code: csvToFET, TT-snu-spring2020 | Python, FET, XML | 2018–19 |\\n| General App Dev | Clinic Queue Notification App Code: GitHub Link | JavaScript, HTML, Google Cloud, Firebase, Node.js | 2019 |\\n| General App Dev | Garud Carpool App Code: GitHub Link | JavaScript, HTML, Google Cloud, Firebase, Java, Android | 2018 |\\n\\n## Student Guidance and Supervision\\n\\n| Student / Project | Year |\\n| --- | --- |\\n| Renu Saraswat. Machine Learning | 2025 (Thesis submitted ) |\\n| Amrita Singh. Machine Learning/Computer Vision | 2025 |\\n| Praveen Laws, PhD Mechanical Engineering, Co-Advised with Dr. Santanu Mitra LinkedIn Profile | 2020 |\\n| R. Maguram, MTech Mechanical Engineering, Co-Advised with Dr. Santanu Mitra | 2020 |\\n\\n## Publications\\n\\n|  |\\n| --- |\\n| Renu Saraswat, Ajit Kumar Stock Price Forecasting With Integration of Sectoral Behavior: A Deep Auto-Optimized Multimodal Framewor. 2025 |\\n| Amrita Singh, Ajit Kumar, Snehasis Mukherjee, Naga Suresh Veerapu Automatic Detection of Virus Infection Patterns in Foci Images Using Switchable Convolutions. 2024 |\\n| Praveen L., A. Kumar, S. Mitra A Numerical Study Toward Harvesting Power From Train Slipstream Using Savonius Rotor. Journal of Energy Resource Technology. May 2020 |\\n| Praveen L., J. S. Saini, A. Kumar, S. Mitra Improvement in Savonius Wind Turbines Efficiency by Modification of Blade Designs—A Numerical Study. Journal of Energy Resource Technology. June 2020 |\\n| A. Veliz-Cuba, A. Kumar, K. Josic. Piecewise linear and boolean models of chemical reaction networks. Bulletin of Mathematical Biology. Volume 76-12. Pages 2945-2984. 2014 |\\n| A. Kumar and K. Josic. Reduced models of networks of coupled enzymatic reactions. Journal of Theoretical Biology. Volume 278-1. Pages 87-106. 2011 |\\n\\n## Conference Presentations\\n\\n| Presentation | Year |\\n| --- | --- |\\n| R. Saraswat, A. Kumar. International Conference on Recent Advances in Mathematics and Data Science | 2024 |\\n| A. Singh, A. Kumar. Indian Conference on Computer Vision, Graphics and Image Processing (ICVGIP), IIT Ropar | 2023 |\\n| A. Singh, A. Kumar. Virtual International Conference on Soft Computing, Optimization Theory and Applications, Mar 26–27, 2021, BIT Mesra, Ranchi | 2021 |\\n| R. Saraswat, A. Kumar. Advances in Differential Equations and Numerical Analysis (Oct 12–15, 2020), IIT Guwahati | 2020 |\\n| Ajit Kumar. Extension of OpenFoam to simulate 6DOF rigid body motion using adaptively refined overset mesh. Indo-German Conference on Computational Mathematics, IISc Bangalore, Dec 2019 | 2019 |\\n| P. Laws, J. S. Saini, A. Kumar. Performance analysis of two-dimensional NACA 0018 airfoil using an overset grid solver. 20th Annual CFD Symposium, National Aerospace Laboratories, Bangalore | 2018 |\\n| A. Kumar. Numerical simulation of cricket ball swings using OpenFOAM. 17th Annual CFD Symposium, National Aerospace Laboratories, Bangalore | 2015 |\\n\\n## Teaching (Last 10 Years)\\n\\nExcerpts from Class feedback\\n\\n> \"There\\'s just some vibe about him that inspires me. He teaches so subtly, chills o\\n\\n<error>Content truncated. Call the fetch tool with a start_index of 5000 to get more content.</error>', name='fetch', id='5cc0cbf2-8540-4928-8666-40ec523c9540', tool_call_id='fc_15506777-5b54-4945-a7cf-d4bdfb3da5ca'),\n",
       "  AIMessage(content='Ajit\\u202fKumar’s email address is:\\n\\n**ajit.kumar@snu.edu.in**', additional_kwargs={'reasoning_content': \"The user wants Ajit's email address. The fetched page shows email: ajit.kumar@snu.edu.in. Provide that.\"}, response_metadata={'token_usage': {'completion_tokens': 56, 'prompt_tokens': 2426, 'total_tokens': 2482, 'completion_time': 0.111534392, 'prompt_time': 0.08913251, 'queue_time': 0.049057139, 'total_time': 0.200666902}, 'model_name': 'openai/gpt-oss-120b', 'system_fingerprint': 'fp_3a688838c3', 'service_tier': 'on_demand', 'finish_reason': 'stop', 'logprobs': None}, id='run--7a2e1d1a-8ed5-42ff-a68a-0c3f0a04d4e4-0', usage_metadata={'input_tokens': 2426, 'output_tokens': 56, 'total_tokens': 2482})]}"
      ]
     },
     "execution_count": 3,
     "metadata": {},
     "output_type": "execute_result"
    }
   ],
   "source": [
    "new_message = \"Go the the site https://krajit.github.io/ and find Ajit's email address\"\n",
    "\n",
    "chat_history[\"messages\"].append({\"role\": \"user\", \"content\": new_message})\n",
    "chat_history = await run_mcp(chat_history)\n",
    "chat_history"
   ]
  },
  {
   "cell_type": "code",
   "execution_count": null,
   "id": "b9443bd1",
   "metadata": {},
   "outputs": [],
   "source": []
  }
 ],
 "metadata": {
  "kernelspec": {
   "display_name": "mat496-monsoon2025",
   "language": "python",
   "name": "python3"
  },
  "language_info": {
   "codemirror_mode": {
    "name": "ipython",
    "version": 3
   },
   "file_extension": ".py",
   "mimetype": "text/x-python",
   "name": "python",
   "nbconvert_exporter": "python",
   "pygments_lexer": "ipython3",
   "version": "3.12.11"
  }
 },
 "nbformat": 4,
 "nbformat_minor": 5
}
