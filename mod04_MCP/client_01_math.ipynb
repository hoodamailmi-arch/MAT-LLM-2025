{
 "cells": [
  {
   "cell_type": "markdown",
   "id": "bc2e950d",
   "metadata": {},
   "source": [
    "# MCP Client in Jupyter Notebook\n",
    "This notebook demonstrates how to connect to an MCP math server and use LangChain tools."
   ]
  },
  {
   "cell_type": "code",
   "execution_count": 2,
   "id": "62d7d0f1",
   "metadata": {},
   "outputs": [],
   "source": [
    "import sys\n",
    "import asyncio\n",
    "from mcp import ClientSession, StdioServerParameters\n",
    "from mcp.client.stdio import stdio_client\n",
    "from langchain_mcp_adapters.tools import load_mcp_tools\n",
    "from langgraph.prebuilt import create_react_agent\n",
    "\n",
    "async def run_mcp_math(chat_history=None):\n",
    "    server_params = StdioServerParameters(\n",
    "        command=sys.executable,\n",
    "        args=[\"d:\\\\MAT496-Monsoon2025\\\\mod04_MCP\\\\servers\\\\math_server.py\"],\n",
    "    )\n",
    "    # Pass errlog=None to avoid fileno error in Jupyter\n",
    "    async with stdio_client(server_params, errlog=None) as (read, write):\n",
    "        async with ClientSession(read, write) as session:\n",
    "            await session.initialize()\n",
    "            tools = await load_mcp_tools(session)\n",
    "            agent = create_react_agent(\"groq:openai/gpt-oss-120b\", tools)\n",
    "            result = await agent.ainvoke(chat_history)\n",
    "            return result"
   ]
  },
  {
   "cell_type": "code",
   "execution_count": 3,
   "id": "a213ef46",
   "metadata": {},
   "outputs": [
    {
     "data": {
      "text/plain": [
       "{'messages': [HumanMessage(content='What is the square root o?', additional_kwargs={}, response_metadata={}, id='aaea5ef8-dd3e-4379-ae1e-6a771417e463'),\n",
       "  AIMessage(content='The square root of\\u202f0 is simply **0**.\\n\\n\\\\[\\n\\\\sqrt{0}=0\\n\\\\]\\n\\nThis follows because 0\\u202f×\\u202f0\\u202f=\\u202f0, and the square‑root function returns the non‑negative number whose square equals the given value.', additional_kwargs={'reasoning_content': 'The user asks: \"What is the square root o?\" Likely they meant \"What is the square root of 0?\" The answer: sqrt(0)=0. Could also be a typo. Provide answer.'}, response_metadata={'token_usage': {'completion_tokens': 110, 'prompt_tokens': 149, 'total_tokens': 259, 'completion_time': 0.218733714, 'prompt_time': 0.005618945, 'queue_time': 0.053971655, 'total_time': 0.224352659}, 'model_name': 'openai/gpt-oss-120b', 'system_fingerprint': 'fp_ed9190d8b7', 'service_tier': 'on_demand', 'finish_reason': 'stop', 'logprobs': None}, id='run--e5ccd040-d179-4fd3-b855-8871df2bff8b-0', usage_metadata={'input_tokens': 149, 'output_tokens': 110, 'total_tokens': 259})]}"
      ]
     },
     "execution_count": 3,
     "metadata": {},
     "output_type": "execute_result"
    }
   ],
   "source": [
    "chat_history = {\"messages\": [{\"role\": \"user\", \"content\": \"What is the square root o?\"}]}\n",
    "chat_history = await run_mcp_math(chat_history)\n",
    "chat_history"
   ]
  },
  {
   "cell_type": "code",
   "execution_count": null,
   "id": "1bd9b57c",
   "metadata": {},
   "outputs": [],
   "source": []
  }
 ],
 "metadata": {
  "kernelspec": {
   "display_name": "mat496-monsoon2025",
   "language": "python",
   "name": "python3"
  },
  "language_info": {
   "codemirror_mode": {
    "name": "ipython",
    "version": 3
   },
   "file_extension": ".py",
   "mimetype": "text/x-python",
   "name": "python",
   "nbconvert_exporter": "python",
   "pygments_lexer": "ipython3",
   "version": "3.12.11"
  }
 },
 "nbformat": 4,
 "nbformat_minor": 5
}
