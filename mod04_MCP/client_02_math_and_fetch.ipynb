{
 "cells": [
  {
   "cell_type": "markdown",
   "id": "bc2e950d",
   "metadata": {},
   "source": [
    "# MCP Client in Jupyter Notebook\n",
    "This notebook demonstrates how to connect to an MCP math server and use LangChain tools."
   ]
  },
  {
   "cell_type": "code",
   "execution_count": 3,
   "id": "62d7d0f1",
   "metadata": {},
   "outputs": [],
   "source": [
    "import sys\n",
    "import asyncio\n",
    "from mcp import ClientSession, StdioServerParameters\n",
    "from mcp.client.stdio import stdio_client\n",
    "from langchain_mcp_adapters.tools import load_mcp_tools\n",
    "from langgraph.prebuilt import create_react_agent\n",
    "\n",
    "async def run_mcp(chat_history=None):\n",
    "    math_params = StdioServerParameters(\n",
    "        command=sys.executable,\n",
    "        args=[\"d:\\\\MAT496-Monsoon2025\\\\mod04_MCP\\\\servers\\\\math_server.py\"],\n",
    "    )\n",
    "    fetch_params = StdioServerParameters(\n",
    "        command=sys.executable,\n",
    "        args=[\"-m\", \"mcp_server_fetch\"],  # assumes installed via pip\n",
    "    )\n",
    "\n",
    "    async with stdio_client(math_params, errlog=None) as (math_read, math_write), \\\n",
    "               stdio_client(fetch_params, errlog=None) as (fetch_read, fetch_write):\n",
    "        async with ClientSession(math_read, math_write) as math_session, \\\n",
    "                   ClientSession(fetch_read, fetch_write) as fetch_session:\n",
    "            await math_session.initialize()\n",
    "            await fetch_session.initialize()\n",
    "            math_tools = await load_mcp_tools(math_session)\n",
    "            fetch_tools = await load_mcp_tools(fetch_session)\n",
    "            tools = math_tools + fetch_tools\n",
    "            agent = create_react_agent(\"groq:openai/gpt-oss-120b\", tools)\n",
    "            result = await agent.ainvoke(chat_history)\n",
    "            return result"
   ]
  },
  {
   "cell_type": "code",
   "execution_count": 4,
   "id": "a213ef46",
   "metadata": {},
   "outputs": [
    {
     "data": {
      "text/plain": [
       "{'messages': [HumanMessage(content='hi?', additional_kwargs={}, response_metadata={}, id='98d7a5cd-9ac3-4607-a4f0-3bda4610d3cd'),\n",
       "  AIMessage(content='Hello! How can I help you today?', additional_kwargs={'reasoning_content': 'The user says \"hi?\" It\\'s a simple greeting. I should respond politely.'}, response_metadata={'token_usage': {'completion_tokens': 35, 'prompt_tokens': 302, 'total_tokens': 337, 'completion_time': 0.069621966, 'prompt_time': 0.011618035, 'queue_time': 0.051278275, 'total_time': 0.081240001}, 'model_name': 'openai/gpt-oss-120b', 'system_fingerprint': 'fp_ed9190d8b7', 'service_tier': 'on_demand', 'finish_reason': 'stop', 'logprobs': None}, id='run--795a9859-91d7-4a49-b355-793cdb180473-0', usage_metadata={'input_tokens': 302, 'output_tokens': 35, 'total_tokens': 337})]}"
      ]
     },
     "execution_count": 4,
     "metadata": {},
     "output_type": "execute_result"
    }
   ],
   "source": [
    "chat_history = {\"messages\": [{\"role\": \"user\", \"content\": \"hi?\"}]}\n",
    "\n",
    "chat_history = await run_mcp(chat_history)\n",
    "chat_history"
   ]
  },
  {
   "cell_type": "code",
   "execution_count": 5,
   "id": "1bd9b57c",
   "metadata": {},
   "outputs": [
    {
     "data": {
      "text/plain": [
       "{'messages': [HumanMessage(content='hi?', additional_kwargs={}, response_metadata={}, id='98d7a5cd-9ac3-4607-a4f0-3bda4610d3cd'),\n",
       "  AIMessage(content='Hello! How can I help you today?', additional_kwargs={'reasoning_content': 'The user says \"hi?\" It\\'s a simple greeting. I should respond politely.'}, response_metadata={'token_usage': {'completion_tokens': 35, 'prompt_tokens': 302, 'total_tokens': 337, 'completion_time': 0.069621966, 'prompt_time': 0.011618035, 'queue_time': 0.051278275, 'total_time': 0.081240001}, 'model_name': 'openai/gpt-oss-120b', 'system_fingerprint': 'fp_ed9190d8b7', 'service_tier': 'on_demand', 'finish_reason': 'stop', 'logprobs': None}, id='run--795a9859-91d7-4a49-b355-793cdb180473-0', usage_metadata={'input_tokens': 302, 'output_tokens': 35, 'total_tokens': 337}),\n",
       "  HumanMessage(content=\"Go the the site https://krajit.github.io/ and find Ajit's email address\", additional_kwargs={}, response_metadata={}, id='978ad4e1-e0f8-4431-bd3c-3620fec5d8c5'),\n",
       "  AIMessage(content='', additional_kwargs={'reasoning_content': \"We need to fetch the site and find Ajit's email address. Use fetch tool. Let's fetch the URL.\", 'tool_calls': [{'id': 'fc_9da0f1e1-8b1d-4e85-a6e9-7460bfb479ad', 'function': {'arguments': '{\"max_length\":5000,\"raw\":false,\"url\":\"https://krajit.github.io/\"}', 'name': 'fetch'}, 'type': 'function'}]}, response_metadata={'token_usage': {'completion_tokens': 70, 'prompt_tokens': 339, 'total_tokens': 409, 'completion_time': 0.13928897, 'prompt_time': 0.012303626, 'queue_time': 0.051395424, 'total_time': 0.151592596}, 'model_name': 'openai/gpt-oss-120b', 'system_fingerprint': 'fp_ed9190d8b7', 'service_tier': 'on_demand', 'finish_reason': 'tool_calls', 'logprobs': None}, id='run--a0b2f240-5390-4d02-bd80-acad90a5109c-0', tool_calls=[{'name': 'fetch', 'args': {'max_length': 5000, 'raw': False, 'url': 'https://krajit.github.io/'}, 'id': 'fc_9da0f1e1-8b1d-4e85-a6e9-7460bfb479ad', 'type': 'tool_call'}], usage_metadata={'input_tokens': 339, 'output_tokens': 70, 'total_tokens': 409}),\n",
       "  ToolMessage(content='Contents of https://krajit.github.io/:\\nAjit Kr @ SNIOE\\n\\n# Ajit Kumar\\n\\nAssistant Professor, Mathematics\\n\\nEmail: ajit.kumar@snu.edu.in\\n\\nOffice: Room A111a\\n\\n## About Me\\n\\nHello, and welcome to my homepage! As a faculty member, my primary expertise lies in teaching Applied Mathematics courses. I enjoy developing applications and writing code to solve real-world problems. Recently, my work has focused on projects involving Machine Learning and AI-related topics. Apart from research and teaching, I am involved in some projects which aim to fill few gaps in our education system. These include designing effective study habits and developing innovative tools for delivering impactful courses.\\n\\n## Recent Projects and Initiatives\\n\\n| Area | Details | Skills used / learned | Duration |\\n| --- | --- | --- | --- |\\n| Reinforcement Learning | Intelligent Game agents creation in the Unity Gaming Engine | MLAgents | 2024–ongoing |\\n| Reinforcement Learning | Develop Automatic stocks trader | Tensordrade, Rllib, TensorFlow, Python | 2022–current |\\n| Reinforcement Learning | Trained a model to figure out Gym’s Frozen Lake paths Code: GitHub Link | Python, Torch, RLlib | 2022 |\\n| AI, Machine Learning | Face Recognition App for Office Attendance Code: Link to be added | Python, JavaScript, HTML, Node.js, Flask, Heroku | 2021 |\\n| AI, Machine Learning | Automatic Detection of Infected Cells Code: Will be published after the paper is accepted | YOLO, TensorFlow, Python, Object Detection | 2021 |\\n| Python Consultancy | Trained Govt officers in basic Python usage (Cabinet Secretariat, Govt of India) | Python | Nov–Dec 2020 |\\n| CFD, Auto Diff | Shape optimization using autodiff Code: GitHub Link | C++, CMake | 2019–20 |\\n| CFD | Adaptive Overset Mesh in OpenFoam Code: GitHub Link | OpenFOAM, C++ | 2019 |\\n| CFD | sixDOF solver in OpenFOAM Code: GitHub Link | OpenFOAM, C++ | 2019–20 |\\n| Timetabling | Automated timetable with Unitime Unitime Site | SQL, Unix, SSH | 2019–current |\\n| Timetabling | Timetable generation with FET Code: csvToFET, TT-snu-spring2020 | Python, FET, XML | 2018–19 |\\n| General App Dev | Clinic Queue Notification App Code: GitHub Link | JavaScript, HTML, Google Cloud, Firebase, Node.js | 2019 |\\n| General App Dev | Garud Carpool App Code: GitHub Link | JavaScript, HTML, Google Cloud, Firebase, Java, Android | 2018 |\\n\\n## Student Guidance and Supervision\\n\\n| Student / Project | Year |\\n| --- | --- |\\n| Renu Saraswat. Machine Learning | 2025 (Thesis submitted ) |\\n| Amrita Singh. Machine Learning/Computer Vision | 2025 |\\n| Praveen Laws, PhD Mechanical Engineering, Co-Advised with Dr. Santanu Mitra LinkedIn Profile | 2020 |\\n| R. Maguram, MTech Mechanical Engineering, Co-Advised with Dr. Santanu Mitra | 2020 |\\n\\n## Publications\\n\\n|  |\\n| --- |\\n| Renu Saraswat, Ajit Kumar Stock Price Forecasting With Integration of Sectoral Behavior: A Deep Auto-Optimized Multimodal Framewor. 2025 |\\n| Amrita Singh, Ajit Kumar, Snehasis Mukherjee, Naga Suresh Veerapu Automatic Detection of Virus Infection Patterns in Foci Images Using Switchable Convolutions. 2024 |\\n| Praveen L., A. Kumar, S. Mitra A Numerical Study Toward Harvesting Power From Train Slipstream Using Savonius Rotor. Journal of Energy Resource Technology. May 2020 |\\n| Praveen L., J. S. Saini, A. Kumar, S. Mitra Improvement in Savonius Wind Turbines Efficiency by Modification of Blade Designs—A Numerical Study. Journal of Energy Resource Technology. June 2020 |\\n| A. Veliz-Cuba, A. Kumar, K. Josic. Piecewise linear and boolean models of chemical reaction networks. Bulletin of Mathematical Biology. Volume 76-12. Pages 2945-2984. 2014 |\\n| A. Kumar and K. Josic. Reduced models of networks of coupled enzymatic reactions. Journal of Theoretical Biology. Volume 278-1. Pages 87-106. 2011 |\\n\\n## Conference Presentations\\n\\n| Presentation | Year |\\n| --- | --- |\\n| R. Saraswat, A. Kumar. International Conference on Recent Advances in Mathematics and Data Science | 2024 |\\n| A. Singh, A. Kumar. Indian Conference on Computer Vision, Graphics and Image Processing (ICVGIP), IIT Ropar | 2023 |\\n| A. Singh, A. Kumar. Virtual International Conference on Soft Computing, Optimization Theory and Applications, Mar 26–27, 2021, BIT Mesra, Ranchi | 2021 |\\n| R. Saraswat, A. Kumar. Advances in Differential Equations and Numerical Analysis (Oct 12–15, 2020), IIT Guwahati | 2020 |\\n| Ajit Kumar. Extension of OpenFoam to simulate 6DOF rigid body motion using adaptively refined overset mesh. Indo-German Conference on Computational Mathematics, IISc Bangalore, Dec 2019 | 2019 |\\n| P. Laws, J. S. Saini, A. Kumar. Performance analysis of two-dimensional NACA 0018 airfoil using an overset grid solver. 20th Annual CFD Symposium, National Aerospace Laboratories, Bangalore | 2018 |\\n| A. Kumar. Numerical simulation of cricket ball swings using OpenFOAM. 17th Annual CFD Symposium, National Aerospace Laboratories, Bangalore | 2015 |\\n\\n## Teaching (Last 10 Years)\\n\\nExcerpts from Class feedback\\n\\n> \"There\\'s just some vibe about him that inspires me. He teaches so subtly, chills o\\n\\n<error>Content truncated. Call the fetch tool with a start_index of 5000 to get more content.</error>', name='fetch', id='5c86c50d-9039-414f-bf8a-c5f9ce89dac4', tool_call_id='fc_9da0f1e1-8b1d-4e85-a6e9-7460bfb479ad'),\n",
       "  AIMessage(content='I visited\\u202fhttps://krajit.github.io/\\u202fand the page lists Ajit\\u202fKumar’s contact information:\\n\\n**Email:** `ajit.kumar@snu.edu.in`', additional_kwargs={'reasoning_content': 'We have fetched the homepage, which contains email: ajit.kumar@snu.edu.in. The user asked: \"Go the the site https://krajit.github.io/ and find Ajit\\'s email address\". Provide the email address. Also maybe verify. Provide answer.'}, response_metadata={'token_usage': {'completion_tokens': 103, 'prompt_tokens': 1693, 'total_tokens': 1796, 'completion_time': 0.204801269, 'prompt_time': 0.065609082, 'queue_time': 0.048054228, 'total_time': 0.270410351}, 'model_name': 'openai/gpt-oss-120b', 'system_fingerprint': 'fp_3a688838c3', 'service_tier': 'on_demand', 'finish_reason': 'stop', 'logprobs': None}, id='run--7101f77b-064f-4714-8370-c07cbcd8d280-0', usage_metadata={'input_tokens': 1693, 'output_tokens': 103, 'total_tokens': 1796})]}"
      ]
     },
     "execution_count": 5,
     "metadata": {},
     "output_type": "execute_result"
    }
   ],
   "source": [
    "new_message = \"Go the the site https://krajit.github.io/ and find Ajit's email address\"\n",
    "\n",
    "chat_history[\"messages\"].append({\"role\": \"user\", \"content\": new_message})\n",
    "chat_history = await run_mcp(chat_history)\n",
    "chat_history"
   ]
  },
  {
   "cell_type": "markdown",
   "id": "5cb1ed26",
   "metadata": {},
   "source": [
    "Note: We will learn how to create react_agents when we will discuss langgraph"
   ]
  },
  {
   "cell_type": "code",
   "execution_count": null,
   "id": "b9443bd1",
   "metadata": {},
   "outputs": [],
   "source": []
  }
 ],
 "metadata": {
  "kernelspec": {
   "display_name": "mat496-monsoon2025",
   "language": "python",
   "name": "python3"
  },
  "language_info": {
   "codemirror_mode": {
    "name": "ipython",
    "version": 3
   },
   "file_extension": ".py",
   "mimetype": "text/x-python",
   "name": "python",
   "nbconvert_exporter": "python",
   "pygments_lexer": "ipython3",
   "version": "3.12.11"
  }
 },
 "nbformat": 4,
 "nbformat_minor": 5
}
