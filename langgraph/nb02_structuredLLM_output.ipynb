{
 "cells": [
  {
   "cell_type": "markdown",
   "id": "0ed3a2c1",
   "metadata": {},
   "source": [
    "[Langchain Reference](https://python.langchain.com/docs/concepts/structured_outputs/)"
   ]
  },
  {
   "cell_type": "code",
   "execution_count": 1,
   "id": "f14bf544",
   "metadata": {},
   "outputs": [
    {
     "data": {
      "text/plain": [
       "True"
      ]
     },
     "execution_count": 1,
     "metadata": {},
     "output_type": "execute_result"
    }
   ],
   "source": [
    "from dotenv import load_dotenv\n",
    "load_dotenv()"
   ]
  },
  {
   "cell_type": "code",
   "execution_count": 2,
   "id": "87e44ee3",
   "metadata": {},
   "outputs": [],
   "source": [
    "# bring in the llm\n",
    "from langchain.chat_models import init_chat_model\n",
    "\n",
    "#llm = init_chat_model(\"openai:gpt-4.1\")\n",
    "llm = init_chat_model(\"anthropic:claude-3-5-sonnet-latest\")\n"
   ]
  },
  {
   "cell_type": "markdown",
   "id": "0de7dba3",
   "metadata": {},
   "source": [
    "## Example 1"
   ]
  },
  {
   "cell_type": "code",
   "execution_count": 3,
   "id": "3b1b4b58",
   "metadata": {},
   "outputs": [],
   "source": [
    "# define schema\n",
    "from pydantic import BaseModel, Field\n",
    "class AnimalSchema(BaseModel):\n",
    "    age: int = Field(descript=\"The average age of the animal that the user is querrying\")\n",
    "    weight: int = Field(descript=\"The average weight of the animal that the user is querrying\")\n",
    "    lifespan: int = Field(descript=\"The average lifespan of the animal that the user is querrying\")\n",
    "\n",
    "llm_animal = llm.with_structured_output(AnimalSchema)"
   ]
  },
  {
   "cell_type": "code",
   "execution_count": null,
   "id": "785bf247",
   "metadata": {},
   "outputs": [
    {
     "data": {
      "text/plain": [
       "AIMessage(content='Dogs (Canis lupus familiaris) are domesticated mammals that have been living alongside humans for at least 15,000 years. They are descendants of wolves and are often referred to as \"man\\'s best friend.\" Here are some key points about dogs:\\n\\n1. Characteristics:\\n- Loyal and social animals\\n- Highly intelligent and trainable\\n- Come in various sizes, shapes, and colors\\n- Have an excellent sense of smell and hearing\\n\\n2. Breeds:\\n- There are hundreds of recognized dog breeds\\n- Different breeds were developed for specific purposes (hunting, herding, companionship, etc.)\\n- The American Kennel Club recognizes over 190 breeds\\n\\n3. Basic needs:\\n- Regular exercise\\n- Proper nutrition\\n- Healthcare and veterinary check-ups\\n- Social interaction\\n- Training and mental stimulation\\n\\n4. Common uses:\\n- Companionship/pets\\n- Service animals\\n- Police/military work\\n- Search and rescue\\n- Therapy animals\\n- Herding livestock\\n- Hunting\\n\\n5. Benefits of dog ownership:\\n- Reduced stress and anxiety\\n- Increased physical activity\\n- Enhanced social interactions\\n- Improved mental health\\n- Security\\n\\nDogs require commitment, care, and attention but can provide tremendous joy and companionship to their owners.', additional_kwargs={}, response_metadata={'id': 'msg_01TeaUZsaoND9BSR1CGQ4nL7', 'model': 'claude-3-5-sonnet-20241022', 'stop_reason': 'end_turn', 'stop_sequence': None, 'usage': {'cache_creation_input_tokens': 0, 'cache_read_input_tokens': 0, 'input_tokens': 11, 'output_tokens': 288, 'server_tool_use': None, 'service_tier': 'standard'}, 'model_name': 'claude-3-5-sonnet-20241022'}, id='run--9b3156c2-d564-4da8-8c92-20db46d4f470-0', usage_metadata={'input_tokens': 11, 'output_tokens': 288, 'total_tokens': 299, 'input_token_details': {'cache_read': 0, 'cache_creation': 0}})"
      ]
     },
     "execution_count": 6,
     "metadata": {},
     "output_type": "execute_result"
    }
   ],
   "source": [
    "# unstructured output\n",
    "result = llm.invoke(\"Tell me about dogs\")\n"
   ]
  },
  {
   "cell_type": "code",
   "execution_count": 7,
   "id": "ccdcdc88",
   "metadata": {},
   "outputs": [
    {
     "name": "stdout",
     "output_type": "stream",
     "text": [
      "Dogs (Canis lupus familiaris) are domesticated mammals that have been living alongside humans for at least 15,000 years. They are descendants of wolves and are often referred to as \"man's best friend.\" Here are some key points about dogs:\n",
      "\n",
      "1. Characteristics:\n",
      "- Loyal and social animals\n",
      "- Highly intelligent and trainable\n",
      "- Come in various sizes, shapes, and colors\n",
      "- Have an excellent sense of smell and hearing\n",
      "\n",
      "2. Breeds:\n",
      "- There are hundreds of recognized dog breeds\n",
      "- Different breeds were developed for specific purposes (hunting, herding, companionship, etc.)\n",
      "- The American Kennel Club recognizes over 190 breeds\n",
      "\n",
      "3. Basic needs:\n",
      "- Regular exercise\n",
      "- Proper nutrition\n",
      "- Healthcare and veterinary check-ups\n",
      "- Social interaction\n",
      "- Training and mental stimulation\n",
      "\n",
      "4. Common uses:\n",
      "- Companionship/pets\n",
      "- Service animals\n",
      "- Police/military work\n",
      "- Search and rescue\n",
      "- Therapy animals\n",
      "- Herding livestock\n",
      "- Hunting\n",
      "\n",
      "5. Benefits of dog ownership:\n",
      "- Reduced stress and anxiety\n",
      "- Increased physical activity\n",
      "- Enhanced social interactions\n",
      "- Improved mental health\n",
      "- Security\n",
      "\n",
      "Dogs require commitment, care, and attention but can provide tremendous joy and companionship to their owners.\n"
     ]
    }
   ],
   "source": [
    "print(result.content)"
   ]
  },
  {
   "cell_type": "code",
   "execution_count": 9,
   "id": "d4d3ef8e",
   "metadata": {},
   "outputs": [],
   "source": [
    "# strucutured output\n",
    "result = llm_animal.invoke(\"Tell me about dogs\")\n"
   ]
  },
  {
   "cell_type": "code",
   "execution_count": 10,
   "id": "59a446dc",
   "metadata": {},
   "outputs": [
    {
     "data": {
      "text/plain": [
       "AnimalSchema(age=2, weight=30, lifespan=12)"
      ]
     },
     "execution_count": 10,
     "metadata": {},
     "output_type": "execute_result"
    }
   ],
   "source": [
    "result"
   ]
  },
  {
   "cell_type": "code",
   "execution_count": null,
   "id": "6216b439",
   "metadata": {},
   "outputs": [],
   "source": []
  },
  {
   "cell_type": "markdown",
   "id": "e1af7fe5",
   "metadata": {},
   "source": [
    "## Exercise2: Books"
   ]
  },
  {
   "cell_type": "code",
   "execution_count": 12,
   "id": "7221d854",
   "metadata": {},
   "outputs": [],
   "source": [
    "from pydantic import BaseModel, Field\n",
    "class BookSchema(BaseModel):\n",
    "    year: str = Field(descript=\"The year of the publication of the book that the user is querying\")\n",
    "    author: str = Field(descript=\"The author of the book that the user is querying\")\n",
    "    summary: str = Field(descript=\"A short, 3-5 line, summary of the book that user is querring\")\n",
    "    title: str = Field(descript=\"The full title of the book that the user is querying. The user may put in only partial title, or there might be some typo\")\n",
    "\n",
    "llm_book = llm.with_structured_output(BookSchema)"
   ]
  },
  {
   "cell_type": "code",
   "execution_count": 20,
   "id": "a8c28f2b",
   "metadata": {},
   "outputs": [],
   "source": [
    "# structured outout\n",
    "result = llm_book.invoke(\"Tell me about the book Rashmirathi\")"
   ]
  },
  {
   "cell_type": "code",
   "execution_count": 21,
   "id": "5978ac65",
   "metadata": {},
   "outputs": [
    {
     "data": {
      "text/plain": [
       "BookSchema(year='1952', author='Ramdhari Singh Dinkar', summary=\"Rashmirathi is an epic Hindi poem that narrates the story of Karna from the Mahabharata. The work explores themes of loyalty, friendship, social justice, and the tragic destiny of its protagonist. Through seven cantos, it depicts Karna's life journey, his relationship with Duryodhana, and his ultimate sacrifice in the great war of Kurukshetra.\", title='Rashmirathi')"
      ]
     },
     "execution_count": 21,
     "metadata": {},
     "output_type": "execute_result"
    }
   ],
   "source": [
    "result"
   ]
  },
  {
   "cell_type": "code",
   "execution_count": 22,
   "id": "d8f411ce",
   "metadata": {},
   "outputs": [
    {
     "name": "stdout",
     "output_type": "stream",
     "text": [
      "Rashmirathi is an epic Hindi poem that narrates the story of Karna from the Mahabharata. The work explores themes of loyalty, friendship, social justice, and the tragic destiny of its protagonist. Through seven cantos, it depicts Karna's life journey, his relationship with Duryodhana, and his ultimate sacrifice in the great war of Kurukshetra.\n"
     ]
    }
   ],
   "source": [
    "print(result.summary)"
   ]
  },
  {
   "cell_type": "code",
   "execution_count": 15,
   "id": "42ac500d",
   "metadata": {},
   "outputs": [],
   "source": [
    "# Unstructured output ... no control\n",
    "\n",
    "result = llm.invoke(\"Tell me about the book Rashmirathi\")"
   ]
  },
  {
   "cell_type": "code",
   "execution_count": 16,
   "id": "86f4310a",
   "metadata": {},
   "outputs": [
    {
     "data": {
      "text/plain": [
       "AIMessage(content='\"Rashmirathi\" is a famous Hindi epic poem written by Ramdhari Singh Dinkar, one of India\\'s most prominent modern Hindi poets. The book was published in 1952 and focuses on the character of Karna from the Hindu epic Mahabharata.\\n\\nKey aspects of the book:\\n\\n1. Content: The poem narrates Karna\\'s life story, highlighting his loyalty, generosity, and the tragic circumstances of his life. It explores themes of friendship, duty, morality, and social justice.\\n\\n2. Structure: The book is divided into seven chapters (cantos) and is written in a rhythmic verse form.\\n\\n3. Perspective: It presents Karna\\'s side of the Mahabharata story, portraying him as a tragic hero who faced discrimination due to his perceived lower birth status despite his extraordinary abilities.\\n\\n4. Cultural Impact: The work is considered one of the finest examples of Hindi epic poetry and has significantly influenced modern Hindi literature.\\n\\n5. Title Meaning: \"Rashmirathi\" means \"charioteer of the Sun\" - a reference to Karna, who was the son of Surya (the Sun god).\\n\\nThe book has received widespread acclaim for its powerful narrative, emotional depth, and its exploration of complex moral questions. It remains a significant work in Hindi literature and is often studied in academic contexts.\\n\\nNote: While I\\'m confident about these basic facts, there might be additional details about the book that I\\'m not completely certain about.', additional_kwargs={}, response_metadata={'id': 'msg_01JSZYGEr5z6W2wPXctzK1A6', 'model': 'claude-3-5-sonnet-20241022', 'stop_reason': 'end_turn', 'stop_sequence': None, 'usage': {'cache_creation_input_tokens': 0, 'cache_read_input_tokens': 0, 'input_tokens': 17, 'output_tokens': 326, 'server_tool_use': None, 'service_tier': 'standard'}, 'model_name': 'claude-3-5-sonnet-20241022'}, id='run--10faca7b-a5cd-4fec-b4ae-4fe44fa474e1-0', usage_metadata={'input_tokens': 17, 'output_tokens': 326, 'total_tokens': 343, 'input_token_details': {'cache_read': 0, 'cache_creation': 0}})"
      ]
     },
     "execution_count": 16,
     "metadata": {},
     "output_type": "execute_result"
    }
   ],
   "source": [
    "result"
   ]
  },
  {
   "cell_type": "code",
   "execution_count": 17,
   "id": "d8fa2f65",
   "metadata": {},
   "outputs": [
    {
     "name": "stdout",
     "output_type": "stream",
     "text": [
      "\"Rashmirathi\" is a famous Hindi epic poem written by Ramdhari Singh Dinkar, one of India's most prominent modern Hindi poets. The book was published in 1952 and focuses on the character of Karna from the Hindu epic Mahabharata.\n",
      "\n",
      "Key aspects of the book:\n",
      "\n",
      "1. Content: The poem narrates Karna's life story, highlighting his loyalty, generosity, and the tragic circumstances of his life. It explores themes of friendship, duty, morality, and social justice.\n",
      "\n",
      "2. Structure: The book is divided into seven chapters (cantos) and is written in a rhythmic verse form.\n",
      "\n",
      "3. Perspective: It presents Karna's side of the Mahabharata story, portraying him as a tragic hero who faced discrimination due to his perceived lower birth status despite his extraordinary abilities.\n",
      "\n",
      "4. Cultural Impact: The work is considered one of the finest examples of Hindi epic poetry and has significantly influenced modern Hindi literature.\n",
      "\n",
      "5. Title Meaning: \"Rashmirathi\" means \"charioteer of the Sun\" - a reference to Karna, who was the son of Surya (the Sun god).\n",
      "\n",
      "The book has received widespread acclaim for its powerful narrative, emotional depth, and its exploration of complex moral questions. It remains a significant work in Hindi literature and is often studied in academic contexts.\n",
      "\n",
      "Note: While I'm confident about these basic facts, there might be additional details about the book that I'm not completely certain about.\n"
     ]
    }
   ],
   "source": [
    "print(result.content)"
   ]
  },
  {
   "cell_type": "code",
   "execution_count": null,
   "id": "a8b7adcc",
   "metadata": {},
   "outputs": [],
   "source": []
  }
 ],
 "metadata": {
  "kernelspec": {
   "display_name": "langgraph",
   "language": "python",
   "name": "python3"
  },
  "language_info": {
   "codemirror_mode": {
    "name": "ipython",
    "version": 3
   },
   "file_extension": ".py",
   "mimetype": "text/x-python",
   "name": "python",
   "nbconvert_exporter": "python",
   "pygments_lexer": "ipython3",
   "version": "3.11.13"
  }
 },
 "nbformat": 4,
 "nbformat_minor": 5
}
