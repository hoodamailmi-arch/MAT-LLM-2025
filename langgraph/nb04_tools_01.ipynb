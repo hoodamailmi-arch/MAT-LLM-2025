{
 "cells": [
  {
   "cell_type": "code",
   "execution_count": 9,
   "id": "c704a160",
   "metadata": {},
   "outputs": [
    {
     "data": {
      "text/plain": [
       "True"
      ]
     },
     "execution_count": 9,
     "metadata": {},
     "output_type": "execute_result"
    }
   ],
   "source": [
    "from dotenv import load_dotenv\n",
    "load_dotenv()"
   ]
  },
  {
   "cell_type": "markdown",
   "id": "6dc2df21",
   "metadata": {},
   "source": [
    "## See this for learning tools from scratch\n",
    "\n",
    "https://python.langchain.com/docs/concepts/tools/"
   ]
  },
  {
   "cell_type": "markdown",
   "id": "601efe13",
   "metadata": {},
   "source": [
    "# Tavily Search tool"
   ]
  },
  {
   "cell_type": "code",
   "execution_count": 10,
   "id": "5cabbd6d",
   "metadata": {},
   "outputs": [],
   "source": [
    "from langchain_tavily import TavilySearch\n",
    "\n",
    "tool = TavilySearch(max_results=5)"
   ]
  },
  {
   "cell_type": "code",
   "execution_count": 13,
   "id": "22a73b4a",
   "metadata": {},
   "outputs": [
    {
     "data": {
      "text/plain": [
       "{'query': 'Who is the current Chairperson of HCLTECH?',\n",
       " 'follow_up_questions': None,\n",
       " 'answer': None,\n",
       " 'images': [],\n",
       " 'results': [{'url': 'https://www.hcltech.com/leadership',\n",
       "   'title': 'HCLTech Leadership Team – Visionaries Driving Innovation and ...',\n",
       "   'content': 'Roshni Nadar Malhotra is the Chairperson of HCLTech, a leading global technology organization with a market capitalization of $55 billion, and the Chairperson',\n",
       "   'score': 0.91288006,\n",
       "   'raw_content': None},\n",
       "  {'url': 'https://www.forbes.com/profile/roshni-nadar-malhotra/',\n",
       "   'title': 'Roshni Nadar Malhotra - Forbes',\n",
       "   'content': \"Roshni Nadar Malhotra · Malhotra is the chairperson for HCLTech, a multinational IT services and consulting firm based in India. · She's responsible for all\",\n",
       "   'score': 0.86052185,\n",
       "   'raw_content': None},\n",
       "  {'url': 'https://en.wikipedia.org/wiki/HCLTech',\n",
       "   'title': 'HCLTech - Wikipedia',\n",
       "   'content': '(Chairperson) Shiv Nadar (Chairman Emeritus) C Vijayakumar (CEO & Managing Director). Products. HCL Notes/Domino · HCL AppScan · HCL Connections · HCL',\n",
       "   'score': 0.8482825,\n",
       "   'raw_content': None},\n",
       "  {'url': 'https://en.wikipedia.org/wiki/Roshni_Nadar',\n",
       "   'title': 'Roshni Nadar - Wikipedia',\n",
       "   'content': 'Roshni Nadar Malhotra (born 1982) is an Indian businesswoman and philanthropist and the chairperson of HCL Technologies. She is the first woman to lead a listed',\n",
       "   'score': 0.8312667,\n",
       "   'raw_content': None},\n",
       "  {'url': 'https://www.hcltech.com/hcl-annual-report-2024/founder-and-board-of-directors',\n",
       "   'title': 'HCLTech Annual Report 2023-24: Founder and Board of Directors',\n",
       "   'content': 'Shiv Nadar. Founder, HCL Group; Chairman Emeritus and Strategic Advisor to the Board. Board of Directors. Roshni Nadar Malhotra. Chairperson, Non-Executive,',\n",
       "   'score': 0.77650476,\n",
       "   'raw_content': None}],\n",
       " 'response_time': 1.58}"
      ]
     },
     "execution_count": 13,
     "metadata": {},
     "output_type": "execute_result"
    }
   ],
   "source": [
    "# usage\n",
    "\n",
    "tool.invoke(\"Who is the current Chairperson of HCLTECH?\")"
   ]
  },
  {
   "cell_type": "code",
   "execution_count": 15,
   "id": "019b7e7f",
   "metadata": {},
   "outputs": [],
   "source": [
    "# bind tool to the agent\n",
    "\n",
    "from langchain.chat_models import init_chat_model\n",
    "llm = init_chat_model(\"anthropic:claude-3-5-sonnet-latest\")\n",
    "\n",
    "llm_with_search_tool = llm.bind_tools([TavilySearch(max_results=5)])"
   ]
  },
  {
   "cell_type": "code",
   "execution_count": 16,
   "id": "e7c5a05d",
   "metadata": {},
   "outputs": [
    {
     "data": {
      "text/plain": [
       "AIMessage(content=[{'text': \"I'll search for information about how to make butter at home.\", 'type': 'text'}, {'id': 'toolu_015HTKY5nqyirpdxKk7fdCRG', 'input': {'query': 'how to make homemade butter step by step'}, 'name': 'tavily_search', 'type': 'tool_use'}], additional_kwargs={}, response_metadata={'id': 'msg_01AMeTmtYMX8DUAwg6LEdNnw', 'model': 'claude-3-5-sonnet-20241022', 'stop_reason': 'tool_use', 'stop_sequence': None, 'usage': {'cache_creation_input_tokens': 0, 'cache_read_input_tokens': 0, 'input_tokens': 1477, 'output_tokens': 77, 'server_tool_use': None, 'service_tier': 'standard'}, 'model_name': 'claude-3-5-sonnet-20241022'}, id='run--654c3bb7-895e-4b18-bab1-38df62c03914-0', tool_calls=[{'name': 'tavily_search', 'args': {'query': 'how to make homemade butter step by step'}, 'id': 'toolu_015HTKY5nqyirpdxKk7fdCRG', 'type': 'tool_call'}], usage_metadata={'input_tokens': 1477, 'output_tokens': 77, 'total_tokens': 1554, 'input_token_details': {'cache_read': 0, 'cache_creation': 0}})"
      ]
     },
     "execution_count": 16,
     "metadata": {},
     "output_type": "execute_result"
    }
   ],
   "source": [
    "# let LLm decide if it chooses to call or not call the tool\n",
    "\n",
    "llm_with_search_tool.invoke(\"Hello, I wanted to find out how to make butter.\")"
   ]
  },
  {
   "cell_type": "code",
   "execution_count": 17,
   "id": "3bdb7c47",
   "metadata": {},
   "outputs": [
    {
     "data": {
      "text/plain": [
       "AIMessage(content=[{'text': 'Let me search for accurate historical information about Adolf Hitler.', 'type': 'text'}, {'id': 'toolu_011wVi6qHBJ9q37jShWogCoh', 'input': {'query': 'Adolf Hitler historical facts biography', 'search_depth': 'advanced'}, 'name': 'tavily_search', 'type': 'tool_use'}], additional_kwargs={}, response_metadata={'id': 'msg_012hFjvFZZXYLMHrZNQSWfoZ', 'model': 'claude-3-5-sonnet-20241022', 'stop_reason': 'tool_use', 'stop_sequence': None, 'usage': {'cache_creation_input_tokens': 0, 'cache_read_input_tokens': 0, 'input_tokens': 1472, 'output_tokens': 89, 'server_tool_use': None, 'service_tier': 'standard'}, 'model_name': 'claude-3-5-sonnet-20241022'}, id='run--0241003b-8cb4-46cc-953f-b8ca7a062e5b-0', tool_calls=[{'name': 'tavily_search', 'args': {'query': 'Adolf Hitler historical facts biography', 'search_depth': 'advanced'}, 'id': 'toolu_011wVi6qHBJ9q37jShWogCoh', 'type': 'tool_call'}], usage_metadata={'input_tokens': 1472, 'output_tokens': 89, 'total_tokens': 1561, 'input_token_details': {'cache_read': 0, 'cache_creation': 0}})"
      ]
     },
     "execution_count": 17,
     "metadata": {},
     "output_type": "execute_result"
    }
   ],
   "source": [
    "llm_with_search_tool.invoke(\"What do you know about Hitler?\")"
   ]
  },
  {
   "cell_type": "code",
   "execution_count": 18,
   "id": "c4d681e5",
   "metadata": {},
   "outputs": [
    {
     "data": {
      "text/plain": [
       "AIMessage(content=\"It seems you haven't provided the actual error you're encountering, but looking at the code snippet you shared, there is a syntax error. The function definition is missing a colon `:` after the parameters.\\n\\nHere's the correct syntax:\\n\\n```python\\ndef myTool(x,y):\\n    return x + y\\n```\\n\\nThe colon `:` is required in Python syntax to indicate the beginning of a function's body. It's needed after function definitions, if statements, for loops, while loops, and other block statements in Python.\\n\\nThis is a basic syntax rule in Python - all compound statements (like function definitions) must end their header line with a colon, which tells Python that an indented block of code will follow.\\n\\nLet me know if you have any other questions about Python syntax or if you're encountering any other errors!\", additional_kwargs={}, response_metadata={'id': 'msg_01XDnd4wNgk9CbJH9KFqn5G2', 'model': 'claude-3-5-sonnet-20241022', 'stop_reason': 'end_turn', 'stop_sequence': None, 'usage': {'cache_creation_input_tokens': 0, 'cache_read_input_tokens': 0, 'input_tokens': 1493, 'output_tokens': 184, 'server_tool_use': None, 'service_tier': 'standard'}, 'model_name': 'claude-3-5-sonnet-20241022'}, id='run--fea6c15d-7425-4908-a4b5-ab742cafa9c0-0', usage_metadata={'input_tokens': 1493, 'output_tokens': 184, 'total_tokens': 1677, 'input_token_details': {'cache_read': 0, 'cache_creation': 0}})"
      ]
     },
     "execution_count": 18,
     "metadata": {},
     "output_type": "execute_result"
    }
   ],
   "source": [
    "prompt = \"\"\"\n",
    "what is wrong with my python code snipped?\n",
    "def myTool(x,y)\n",
    "    return x + y\n",
    "\"\"\"\n",
    "\n",
    "llm_with_search_tool.invoke(prompt)"
   ]
  },
  {
   "cell_type": "markdown",
   "id": "afbed213",
   "metadata": {},
   "source": [
    "## Tools based graph"
   ]
  },
  {
   "cell_type": "code",
   "execution_count": 19,
   "id": "1b5b1a53",
   "metadata": {},
   "outputs": [
    {
     "data": {
      "text/plain": [
       "<langgraph.graph.state.StateGraph at 0x1e17c82a650>"
      ]
     },
     "execution_count": 19,
     "metadata": {},
     "output_type": "execute_result"
    }
   ],
   "source": [
    "from dotenv import load_dotenv\n",
    "load_dotenv()\n",
    "\n",
    "from langchain.chat_models import init_chat_model\n",
    "llm = init_chat_model(\"anthropic:claude-3-5-sonnet-latest\")\n",
    "\n",
    "from langchain_tavily import TavilySearch\n",
    "llm_with_search_tool = llm.bind_tools([TavilySearch(max_results=5)])\n",
    "\n",
    "# graph\n",
    "from typing import Annotated\n",
    "from typing_extensions import TypedDict\n",
    "from langgraph.graph import StateGraph, START, END\n",
    "from langgraph.graph.message import add_messages\n",
    "\n",
    "class State(TypedDict):\n",
    "    messages: Annotated[list, add_messages]\n",
    "    \n",
    "\n",
    "graph_builder = StateGraph(State)\n",
    "\n",
    "def chatbot(state: State):\n",
    "    return {\"messages\": [llm_with_search_tool.invoke(state[\"messages\"])]}\n",
    "\n",
    "graph_builder.add_node(\"chatbot\", chatbot)"
   ]
  },
  {
   "cell_type": "code",
   "execution_count": 21,
   "id": "f442c748",
   "metadata": {},
   "outputs": [
    {
     "data": {
      "text/plain": [
       "{'messages': [AIMessage(content=[{'text': 'Let me search for information about the current Prime Minister of New Zealand.', 'type': 'text'}, {'id': 'toolu_014mvt9nMgxUM4N6KVPRzBi7', 'input': {'query': 'Who is the current Prime Minister of New Zealand?'}, 'name': 'tavily_search', 'type': 'tool_use'}], additional_kwargs={}, response_metadata={'id': 'msg_01VwjvjxaGfyQAZq4qmAbryd', 'model': 'claude-3-5-sonnet-20241022', 'stop_reason': 'tool_use', 'stop_sequence': None, 'usage': {'cache_creation_input_tokens': 0, 'cache_read_input_tokens': 0, 'input_tokens': 1477, 'output_tokens': 78, 'server_tool_use': None, 'service_tier': 'standard'}, 'model_name': 'claude-3-5-sonnet-20241022'}, id='run--f37e3b34-50bc-4d55-8776-e5c3aeeb4186-0', tool_calls=[{'name': 'tavily_search', 'args': {'query': 'Who is the current Prime Minister of New Zealand?'}, 'id': 'toolu_014mvt9nMgxUM4N6KVPRzBi7', 'type': 'tool_call'}], usage_metadata={'input_tokens': 1477, 'output_tokens': 78, 'total_tokens': 1555, 'input_token_details': {'cache_read': 0, 'cache_creation': 0}})]}"
      ]
     },
     "execution_count": 21,
     "metadata": {},
     "output_type": "execute_result"
    }
   ],
   "source": [
    "state = {\n",
    "    \"messages\": [\n",
    "        {\n",
    "            \"role\": \"user\",\n",
    "            \"content\": \"Who is the current Prime Minister of NewZealand?\"\n",
    "        }\n",
    "    ]\n",
    "}\n",
    "\n",
    "chatbot(state)"
   ]
  },
  {
   "cell_type": "code",
   "execution_count": null,
   "id": "b9133957",
   "metadata": {},
   "outputs": [],
   "source": []
  }
 ],
 "metadata": {
  "kernelspec": {
   "display_name": "langgraph",
   "language": "python",
   "name": "python3"
  },
  "language_info": {
   "codemirror_mode": {
    "name": "ipython",
    "version": 3
   },
   "file_extension": ".py",
   "mimetype": "text/x-python",
   "name": "python",
   "nbconvert_exporter": "python",
   "pygments_lexer": "ipython3",
   "version": "3.11.13"
  }
 },
 "nbformat": 4,
 "nbformat_minor": 5
}
