{
 "cells": [
  {
   "cell_type": "code",
   "execution_count": 36,
   "id": "c8076f8a",
   "metadata": {},
   "outputs": [],
   "source": [
    "from typing import Annotated, Literal\n",
    "from typing_extensions import TypedDict\n",
    "from langgraph.graph import StateGraph, START, END\n",
    "from langgraph.graph.message import add_messages\n",
    "\n",
    "class State(TypedDict):\n",
    "    messages: Annotated[list, add_messages]"
   ]
  },
  {
   "cell_type": "code",
   "execution_count": 37,
   "id": "a77cb81e",
   "metadata": {},
   "outputs": [],
   "source": [
    "# define schema\n",
    "from pydantic import BaseModel, Field\n",
    "class MoodSchema(BaseModel):\n",
    "    mood: Literal[\"happy\", \"sad\", \"formal\"] = Field(description=\"captures the tone of the users message\")"
   ]
  },
  {
   "cell_type": "code",
   "execution_count": 38,
   "id": "e9ca12cf",
   "metadata": {},
   "outputs": [
    {
     "data": {
      "text/plain": [
       "True"
      ]
     },
     "execution_count": 38,
     "metadata": {},
     "output_type": "execute_result"
    }
   ],
   "source": [
    "from dotenv import load_dotenv\n",
    "load_dotenv()"
   ]
  },
  {
   "cell_type": "code",
   "execution_count": 39,
   "id": "b578bf22",
   "metadata": {},
   "outputs": [],
   "source": [
    "# bring in the llm\n",
    "from langchain.chat_models import init_chat_model\n",
    "\n",
    "#llm = init_chat_model(\"openai:gpt-4.1\")\n",
    "llm = init_chat_model(\"anthropic:claude-3-5-sonnet-latest\")\n"
   ]
  },
  {
   "cell_type": "code",
   "execution_count": 48,
   "id": "c539965f",
   "metadata": {},
   "outputs": [],
   "source": [
    "def moodDetector(state: State)-> Literal[\"happy\", \"sad\", \"formal\"]:\n",
    "    llm_mood_detect = llm.with_structured_output(MoodSchema)\n",
    "    mood = llm_mood_detect.invoke(state[\"messages\"][-1].content)\n",
    "    return mood.mood"
   ]
  },
  {
   "cell_type": "code",
   "execution_count": 49,
   "id": "d5ffa2fa",
   "metadata": {},
   "outputs": [],
   "source": [
    "def happyFun(state: State):\n",
    "    print(\"You are happy\")\n",
    "    return {\"messages\": [llm.invoke(state[\"messages\"])]}\n",
    "\n",
    "def sadFun(state: State):\n",
    "    print(\"You are Sad\")\n",
    "    return {\"messages\": [llm.invoke(state[\"messages\"])]}\n",
    "\n",
    "def formalFun(state: State):\n",
    "    print(\"You are formal\")\n",
    "    return {\"messages\": [llm.invoke(state[\"messages\"])]}\n",
    "    "
   ]
  },
  {
   "cell_type": "code",
   "execution_count": 50,
   "id": "bcf72cde",
   "metadata": {},
   "outputs": [],
   "source": [
    "graph_builder = StateGraph(State)\n",
    "\n",
    "#graph_builder.add_node(\"moodedetector\", moodDetector)\n",
    "graph_builder.add_node(\"happy\",happyFun)\n",
    "graph_builder.add_node(\"sad\",sadFun)\n",
    "graph_builder.add_node(\"formal\",formalFun)\n",
    "\n",
    "#graph_builder.add_edge(START, \"moodedetector\")\n",
    "graph_builder.add_conditional_edges(START,moodDetector)\n",
    "graph_builder.add_edge(\"happy\", END)\n",
    "graph_builder.add_edge(\"sad\", END)\n",
    "graph_builder.add_edge(\"formal\", END)\n",
    "graph = graph_builder.compile()\n",
    "\n"
   ]
  },
  {
   "cell_type": "code",
   "execution_count": 51,
   "id": "ef565d34",
   "metadata": {},
   "outputs": [
    {
     "data": {
      "image/png": "[encoded data removed]",
      "text/plain": [
       "<IPython.core.display.Image object>"
      ]
     },
     "metadata": {},
     "output_type": "display_data"
    }
   ],
   "source": [
    "# view the graph\n",
    "\n",
    "from IPython.display import Image, display\n",
    "display(Image(graph.get_graph().draw_mermaid_png()))"
   ]
  },
  {
   "cell_type": "code",
   "execution_count": 54,
   "id": "5c989e6e",
   "metadata": {},
   "outputs": [
    {
     "name": "stdout",
     "output_type": "stream",
     "text": [
      "You are happy\n"
     ]
    },
    {
     "data": {
      "text/plain": [
       "{'messages': [HumanMessage(content='Man, I am having the time of my life', additional_kwargs={}, response_metadata={}, id='911fd5ff-4ef1-43e8-8eac-c3c0b962267f'),\n",
       "  AIMessage(content=\"That's great to hear! What's making life so enjoyable for you right now?\", additional_kwargs={}, response_metadata={'id': 'msg_01WfLb2paRAodexVhnsqPUtF', 'model': 'claude-3-5-sonnet-20241022', 'stop_reason': 'end_turn', 'stop_sequence': None, 'usage': {'cache_creation_input_tokens': 0, 'cache_read_input_tokens': 0, 'input_tokens': 17, 'output_tokens': 21, 'server_tool_use': None, 'service_tier': 'standard'}, 'model_name': 'claude-3-5-sonnet-20241022'}, id='run--2c413fd2-53eb-4eb5-8371-51999e52c571-0', usage_metadata={'input_tokens': 17, 'output_tokens': 21, 'total_tokens': 38, 'input_token_details': {'cache_read': 0, 'cache_creation': 0}})]}"
      ]
     },
     "execution_count": 54,
     "metadata": {},
     "output_type": "execute_result"
    }
   ],
   "source": [
    "# simple run\n",
    "\n",
    "state = {\n",
    "    \"messages\" : [\n",
    "        {\n",
    "            \"role\": \"user\",\n",
    "            \"content\": \"Man, I am having the time of my life\"\n",
    "        }\n",
    "    ]\n",
    "}\n",
    "state = graph.invoke(state)\n",
    "state"
   ]
  },
  {
   "cell_type": "code",
   "execution_count": null,
   "id": "7846d2cf",
   "metadata": {},
   "outputs": [],
   "source": []
  }
 ],
 "metadata": {
  "kernelspec": {
   "display_name": "langgraph",
   "language": "python",
   "name": "python3"
  },
  "language_info": {
   "codemirror_mode": {
    "name": "ipython",
    "version": 3
   },
   "file_extension": ".py",
   "mimetype": "text/x-python",
   "name": "python",
   "nbconvert_exporter": "python",
   "pygments_lexer": "ipython3",
   "version": "3.11.13"
  }
 },
 "nbformat": 4,
 "nbformat_minor": 5
}
