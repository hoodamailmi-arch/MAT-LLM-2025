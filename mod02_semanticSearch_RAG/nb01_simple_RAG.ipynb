{
 "cells": [
  {
   "cell_type": "code",
   "execution_count": 1,
   "id": "65ec513b",
   "metadata": {},
   "outputs": [
    {
     "data": {
      "text/plain": [
       "True"
      ]
     },
     "execution_count": 1,
     "metadata": {},
     "output_type": "execute_result"
    }
   ],
   "source": [
    "import os\n",
    "from dotenv import load_dotenv\n",
    "load_dotenv()"
   ]
  },
  {
   "cell_type": "markdown",
   "id": "6e45e179",
   "metadata": {},
   "source": [
    "## What is RAG (retrieval augmented generation)?\n",
    "Basically, shoving lot of extra information in the prompt."
   ]
  },
  {
   "cell_type": "code",
   "execution_count": 2,
   "id": "52bc9487",
   "metadata": {},
   "outputs": [
    {
     "name": "stdout",
     "output_type": "stream",
     "text": [
      "content=\"Ajit is Preeti's brother. He is also the brother of Sweta. This information is directly stated in the provided context.\" additional_kwargs={} response_metadata={'token_usage': {'completion_tokens': 29, 'prompt_tokens': 119, 'total_tokens': 148, 'completion_time': 0.102494632, 'prompt_time': 0.016870646, 'queue_time': 0.042743274, 'total_time': 0.119365278}, 'model_name': 'llama-3.3-70b-versatile', 'system_fingerprint': 'fp_3f3b593e33', 'service_tier': 'on_demand', 'finish_reason': 'stop', 'logprobs': None} id='run--1a950943-b475-4dff-836d-b6058b5fafec-0' usage_metadata={'input_tokens': 119, 'output_tokens': 29, 'total_tokens': 148}\n"
     ]
    }
   ],
   "source": [
    "# Example \n",
    "\n",
    "from langchain.chat_models import init_chat_model\n",
    "model = init_chat_model(\"llama-3.3-70b-versatile\", model_provider=\"groq\")\n",
    "\n",
    "prompt_template = \"\"\"You are an assistant for question-answering tasks. Use the following pieces of retrieved context to answer the question. If you don't know the answer, just say that you don't know. Use three sentences maximum and keep the answer concise.\n",
    "Question: {question} \n",
    "Context: {context} \n",
    "Answer:\"\"\"\n",
    "\n",
    "response = model.invoke(\n",
    "    prompt_template.format(\n",
    "        context=\"Ajit has two sisters, Preeti and Sweta. Ajit is male.\",\n",
    "        question=\"Who is Preeti's bother?\"         \n",
    "    ))\n",
    "\n",
    "print(response)"
   ]
  },
  {
   "cell_type": "code",
   "execution_count": 3,
   "id": "475aef4c",
   "metadata": {},
   "outputs": [
    {
     "name": "stdout",
     "output_type": "stream",
     "text": [
      "Ajit is Preeti's brother. He is also the brother of Sweta. This information is directly stated in the provided context.\n"
     ]
    }
   ],
   "source": [
    "print(response.content)"
   ]
  },
  {
   "cell_type": "markdown",
   "id": "33703cf0",
   "metadata": {},
   "source": [
    ">RAG is all about cleverly pushing is as much information in the context with minimum possible tokens"
   ]
  },
  {
   "cell_type": "code",
   "execution_count": 4,
   "id": "0b38ad4e",
   "metadata": {},
   "outputs": [],
   "source": [
    "# little non-trival RAG example\n",
    "\n",
    "# grab a novel\n",
    "file = open(\"indianTales.txt\")\n",
    "text = file.read()"
   ]
  },
  {
   "cell_type": "code",
   "execution_count": 8,
   "id": "07503397",
   "metadata": {},
   "outputs": [
    {
     "name": "stdout",
     "output_type": "stream",
     "text": [
      "content='यहाँ इस संग्रह में कहानियों की सूची दी गई है:\\n\\n1. **शेर और बगुला** - एक बगुला एक शेर की मदद करता है जिसके गले में एक हड्डी फंस जाती है, लेकिन शेर उसकी मदद के बावजूद उसे पुरस्कृत नहीं करता है।\\n2. **राजा के पुत्र ने कैसे राजकुमारी लाबम को जीता** - एक राजकुमार अपनी माँ की सलाह के विरुद्ध जाकर राजकुमारी लाबम को ढूंढने निकलता है और कई चुनौतियों का सामना करता है।\\n3. **लाम्बिकिन** - इस कहानी का विवरण नहीं दिया गया है।\\n4. **पंचकिन** - इस कहानी का विवरण नहीं दिया गया है।\\n5. **टूटा हुआ बर्तन** - इस कहानी का विवरण नहीं दिया गया है।\\n6. **मैजिक फिडल** - इस कहानी का विवरण नहीं दिया गया है।\\n7. **क्रूर बगुला को मात देना** - इस कहानी का विवरण नहीं दिया गया है।\\n8. **प्रेमी लैली** - इस कहानी का विवरण नहीं दिया गया है।\\n9. **बाघ, ब्राह्मण और श्जाकल** - इस कहानी का विवरण नहीं दिया गया है।\\n10. **भविष्यवक्ता का पुत्र** - इस कहानी का विवरण नहीं दिया गया है।\\n\\nकेवल दो कहानियों के विवरण दिए गए हैं, इसलिए केवल उन्हीं के सारांश दिए जा सकते हैं।' additional_kwargs={} response_metadata={'token_usage': {'completion_tokens': 481, 'prompt_tokens': 5232, 'total_tokens': 5713, 'completion_time': 1.647601298, 'prompt_time': 0.396636509, 'queue_time': 0.047672937, 'total_time': 2.044237807}, 'model_name': 'llama-3.3-70b-versatile', 'system_fingerprint': 'fp_3f3b593e33', 'service_tier': 'on_demand', 'finish_reason': 'stop', 'logprobs': None} id='run--6e9a3f54-ee79-486b-adef-75db541fbc30-0' usage_metadata={'input_tokens': 5232, 'output_tokens': 481, 'total_tokens': 5713}\n"
     ]
    }
   ],
   "source": [
    "# lets try to talk with this book\n",
    "\n",
    "from langchain.chat_models import init_chat_model\n",
    "model = init_chat_model(\"llama-3.3-70b-versatile\", model_provider=\"groq\")\n",
    "\n",
    "# Prepare your prompt\n",
    "prompt_template = \"\"\"You are a novel reader. You are given collection of stories:\n",
    "{collection_of_stories}\n",
    "You are tasked to make a list of story titles in this collection. Write a short summary for each story in Hindi Language. Skip the story from the list, if the story is not provided in the text. \n",
    "\"\"\"\n",
    "\n",
    "response = model.invoke(prompt_template.format(collection_of_stories = text[:len(text)//20]))\n",
    "\n",
    "print(response)"
   ]
  },
  {
   "cell_type": "code",
   "execution_count": 9,
   "id": "87249ea6",
   "metadata": {},
   "outputs": [
    {
     "data": {
      "text/markdown": [
       "यहाँ इस संग्रह में कहानियों की सूची दी गई है:\n",
       "\n",
       "1. **शेर और बगुला** - एक बगुला एक शेर की मदद करता है जिसके गले में एक हड्डी फंस जाती है, लेकिन शेर उसकी मदद के बावजूद उसे पुरस्कृत नहीं करता है।\n",
       "2. **राजा के पुत्र ने कैसे राजकुमारी लाबम को जीता** - एक राजकुमार अपनी माँ की सलाह के विरुद्ध जाकर राजकुमारी लाबम को ढूंढने निकलता है और कई चुनौतियों का सामना करता है।\n",
       "3. **लाम्बिकिन** - इस कहानी का विवरण नहीं दिया गया है।\n",
       "4. **पंचकिन** - इस कहानी का विवरण नहीं दिया गया है।\n",
       "5. **टूटा हुआ बर्तन** - इस कहानी का विवरण नहीं दिया गया है।\n",
       "6. **मैजिक फिडल** - इस कहानी का विवरण नहीं दिया गया है।\n",
       "7. **क्रूर बगुला को मात देना** - इस कहानी का विवरण नहीं दिया गया है।\n",
       "8. **प्रेमी लैली** - इस कहानी का विवरण नहीं दिया गया है।\n",
       "9. **बाघ, ब्राह्मण और श्जाकल** - इस कहानी का विवरण नहीं दिया गया है।\n",
       "10. **भविष्यवक्ता का पुत्र** - इस कहानी का विवरण नहीं दिया गया है।\n",
       "\n",
       "केवल दो कहानियों के विवरण दिए गए हैं, इसलिए केवल उन्हीं के सारांश दिए जा सकते हैं।"
      ],
      "text/plain": [
       "<IPython.core.display.Markdown object>"
      ]
     },
     "execution_count": 9,
     "metadata": {},
     "output_type": "execute_result"
    }
   ],
   "source": [
    "# Better printing\n",
    "\n",
    "from IPython.display import Markdown\n",
    "Markdown(response.content)"
   ]
  },
  {
   "cell_type": "markdown",
   "id": "8fb7239b",
   "metadata": {},
   "source": [
    "### Problem: Too much raw information in the context makes the prompt too long.\n",
    "- Costly\n",
    "- adds noise\n",
    "### Solution: Use RAG\n",
    "https://python.langchain.com/docs/tutorials/rag/\n",
    "### To understand RAG, we need to understand Semantic Search\n",
    "https://python.langchain.com/docs/tutorials/retrievers/"
   ]
  },
  {
   "cell_type": "code",
   "execution_count": 10,
   "id": "e1ca6bd8",
   "metadata": {},
   "outputs": [],
   "source": [
    "# load text using RELEVANT loader\n",
    "from langchain_community.document_loaders import TextLoader\n",
    "loader = TextLoader(\"indianTales.txt\")\n",
    "docs = loader.load()"
   ]
  },
  {
   "cell_type": "code",
   "execution_count": 11,
   "id": "50eab39c",
   "metadata": {},
   "outputs": [
    {
     "name": "stdout",
     "output_type": "stream",
     "text": [
      "Split given book into 563 sub-documents.\n"
     ]
    }
   ],
   "source": [
    "# Split document into small chunks\n",
    "from langchain_text_splitters import RecursiveCharacterTextSplitter\n",
    "\n",
    "text_splitter = RecursiveCharacterTextSplitter(\n",
    "    chunk_size=1000,  # chunk size (characters)\n",
    "    chunk_overlap=200,  # chunk overlap (characters)\n",
    "    add_start_index=True,  # track index in original document\n",
    ")\n",
    "all_splits = text_splitter.split_documents(docs)\n",
    "\n",
    "print(f\"Split given book into {len(all_splits)} sub-documents.\")"
   ]
  },
  {
   "cell_type": "markdown",
   "id": "d68dd2b5",
   "metadata": {},
   "source": [
    "### Embedding"
   ]
  },
  {
   "cell_type": "code",
   "execution_count": 16,
   "id": "758a909b",
   "metadata": {},
   "outputs": [],
   "source": [
    "from langchain_google_genai import GoogleGenerativeAIEmbeddings\n",
    "\n",
    "embeddings = GoogleGenerativeAIEmbeddings(model=\"models/embedding-001\")\n",
    "\n",
    "# Create a vector store\n",
    "# (CLASSROOM DISCUSSION: What are vector stores? What do we make them?)\n",
    "from langchain_core.vectorstores import InMemoryVectorStore\n",
    "vector_store = InMemoryVectorStore(embeddings)\n",
    "\n",
    "# Adding documents to vector store\n",
    "document_ids = vector_store.add_documents(documents=all_splits)\n"
   ]
  },
  {
   "cell_type": "code",
   "execution_count": 15,
   "id": "4e746c37",
   "metadata": {},
   "outputs": [],
   "source": [
    "# document_ids"
   ]
  },
  {
   "cell_type": "code",
   "execution_count": 18,
   "id": "c6363c9a",
   "metadata": {},
   "outputs": [],
   "source": [
    "# extract chunks which matches with your query\n",
    "\n",
    "search_results = vector_store.similarity_search_with_score(\n",
    "    \"What is the role of Lion in the story?\",\n",
    "    k = 10\n",
    ")"
   ]
  },
  {
   "cell_type": "code",
   "execution_count": 19,
   "id": "566ba5f3",
   "metadata": {},
   "outputs": [
    {
     "data": {
      "text/plain": [
       "[(Document(id='6745ea9b-12c8-45d5-878a-03c21ec617c9', metadata={'source': 'indianTales.txt', 'start_index': 341149}, page_content=\"In the following Notes I give, as on the two previous occasions, the\\n_source_ whence I derived the tale, then _parallels_, and finally\\n_remarks_. For Indian _parallels_ I have been able to refer to Major\\nTemple's remarkable Analysis of Indian Folk-tale incidents at the end\\nof _Wideawake Stories_ (pp. 386-436), for European ones to my\\nalphabetical List of Incidents, with bibliographical references, in\\n_Transactions of Folk-Lore Congress_, 1892, pp. 87-98. My _remarks_\\nhave been mainly devoted to tracing the relation between the Indian\\nand the European tales, with the object of showing that the latter\\nhave been derived from the former. I have, however, to some extent\\nhandicapped myself, as I have avoided giving again the Indian versions\\nof stories already given in _English Fairy Tales_ or _Celtic Fairy\\nTales_.\\n\\n\\nI. THE LION AND THE CRANE.\"),\n",
       "  0.7058744536565884),\n",
       " (Document(id='5eee5800-4241-43f7-9599-355264a490a4', metadata={'source': 'indianTales.txt', 'start_index': 12770}, page_content='mouth struck one end of the bone with his beak. Whereupon the bone\\ndropped and fell out. As soon as he had caused the bone to fall, he\\ngot out of the lion\\'s mouth, striking the stick with his beak so that\\nit fell out, and then settled on a branch. The lion gets well, and\\none day was eating a buffalo he had killed. The crane thinking \"I will\\nsound him,\" settled on a branch just over him, and in conversation\\nspoke this first verse:'),\n",
       "  0.7027941689087301),\n",
       " (Document(id='88d49074-de8c-4b62-ac4e-eb6358b18b32', metadata={'source': 'indianTales.txt', 'start_index': 13209}, page_content='\"A service have we done thee\\n      To the best of our ability,\\n    King of the Beasts! Your Majesty!\\n      What return shall we get from thee?\"\\n\\nIn reply the Lion spoke the second verse:\\n\\n    \"As I feed on blood,\\n      And always hunt for prey,\\n    \\'Tis much that thou art still alive\\n      Having once been between my teeth.\"\\n\\nThen in reply the crane said the two other verses:\\n\\n    \"Ungrateful, doing no good,\\n      Not doing as he would be done by,\\n    In him there is no gratitude,\\n      To serve him is useless.\\n\\n    \"His friendship is not won\\n      By the clearest good deed.\\n    Better softly withdraw from him,\\n      Neither envying nor abusing.\"\\n\\nAnd having thus spoken the crane flew away.\\n\\n_And when the great Teacher, Gautama the Buddha, told this tale, he\\nused to add: \"Now at that time the lion was Devadatta the Traitor, but\\nthe white crane was I myself.\"_\\n\\n[Illustration: THE LION AND THE CRANE]\\n\\n\\n\\n\\nHow the Raja\\'s Son won the Princess Labam.'),\n",
       "  0.6982160323646501),\n",
       " (Document(id='7e84f37e-4aa0-480b-9b7b-e1e2110ab984', metadata={'source': 'indianTales.txt', 'start_index': 14082}, page_content='[Illustration: THE LION AND THE CRANE]\\n\\n\\n\\n\\nHow the Raja\\'s Son won the Princess Labam.\\n\\n\\nIn a country there was a Raja who had an only son who every day went\\nout to hunt. One day the Rani, his mother, said to him, \"You can hunt\\nwherever you like on these three sides; but you must never go to the\\nfourth side.\" This she said because she knew if he went on the fourth\\nside he would hear of the beautiful Princess Labam, and that then he\\nwould leave his father and mother and seek for the princess.'),\n",
       "  0.6974001064309665),\n",
       " (Document(id='922e8a08-9c26-4028-9d42-8e0effe8cfb6', metadata={'source': 'indianTales.txt', 'start_index': 17976}, page_content='The Raja\\'s son thanked him, mounted his horse and continued his\\njourney. He rode on and on until he came to another jungle, and there\\nhe saw a tiger who had a thorn in his foot, and was roaring loudly\\nfrom the pain.\\n\\n\"Why do you roar like that?\" said the young Raja. \"What is the matter\\nwith you?\"\\n\\n\"I have had a thorn in my foot for twelve years,\" answered the tiger,\\n\"and it hurts me so; that is why I roar.\"\\n\\n\"Well,\" said the Raja\\'s son, \"I will take it out for you. But\\nperhaps, as you are a tiger, when I have made you well, you will eat\\nme?\"\\n\\n[Illustration:]\\n\\n\"Oh, no,\" said the tiger, \"I won\\'t eat you. Do make me well.\"\\n\\nThen the prince took a little knife from his pocket, and cut the thorn\\nout of the tiger\\'s foot; but when he cut, the tiger roared louder than\\never--so loud that his wife heard him in the next jungle, and came\\nbounding along to see what was the matter. The tiger saw her coming,\\nand hid the prince in the jungle, so that she should not see him.\\n\\n[Illustration:]'),\n",
       "  0.6895872030037712),\n",
       " (Document(id='a88b091b-df4c-404a-ad09-24c5c66c13e8', metadata={'source': 'indianTales.txt', 'start_index': 113573}, page_content='He reached Benares, and lived there for more than ten years, and quite\\nforgot the tiger, serpent, rat, and goldsmith. After ten years of\\nreligious life, thoughts of home and of his brother rushed into his\\nmind. \"I have secured enough merit now by my religious observances.\\nLet me return home.\" Thus thought Gangazara within himself, and very\\nsoon he was on his way back to his country. Remembering the prophecy\\nof his father he returned by the same way by which he went to Benares\\nten years before. While thus retracing his steps he reached the ruined\\nwell where he had released the three brute kings and the goldsmith. At\\nonce the old recollections rushed into his mind, and he thought of the\\ntiger to test his fidelity. Only a moment passed, and the tiger-king\\ncame running before him carrying a large crown in his mouth, the\\nglitter of the diamonds of which for a time outshone even the bright\\nrays of the sun. He dropped the crown at his life-giver\\'s feet, and,'),\n",
       "  0.6802398740637331),\n",
       " (Document(id='01a90c64-7158-403a-9136-47649e78ec3e', metadata={'source': 'indianTales.txt', 'start_index': 108316}, page_content='a sea coast, and not by a tiger.\" Thus thinking, he asked the\\ntiger-king to hold tight to the vessel, which he accordingly did, and\\nhe lifted him up slowly. The tiger reached the top of the well and\\nfelt himself on safe ground. True to his word, he did no harm to\\nGangazara. On the other hand, he walked round his patron three times,\\nand standing before him, humbly spoke the following words: \"My\\nlife-giver, my benefactor! I shall never forget this day, when I\\nregained my life through your kind hands. In return for this kind\\nassistance I pledge my oath to stand by you in all calamities.\\nWhenever you are in any difficulty just think of me. I am there with\\nyou ready to oblige you by all the means that I can. To tell you\\nbriefly how I came in here: Three days ago I was roaming in yonder\\nforest, when I saw a goldsmith passing through it. I chased him. He,\\nfinding it impossible to escape my claws, jumped into this well, and\\nis living to this moment in the very bottom of it. I also jumped in,'),\n",
       "  0.6772274812812188),\n",
       " (Document(id='9740a6c9-795a-413a-b9ae-762bcd82580a', metadata={'source': 'indianTales.txt', 'start_index': 343966}, page_content=\"in his _Assemblies of Æsopic Fables_, which I have shown to be the\\nsource of Phædrus' Fables c. 30 A.D. Besides this, it came from\\nCeylon in the Fables of Kybises--_i.e._, Kasyapa the Buddha--c. 50\\nA.D., was adapted into Hebrew, and used for political purposes, by\\nRabbi Joshua ben Chananyah in a harangue to the Jews c. 120 A.D.,\\nbegging them to be patient while within the jaws of Rome. The Hebrew\\nform uses the lion, not the wolf, as the ingrate, which enables us\\nto decide on the Indian _provenance_ of the Midrashic version. It may\\nbe remarked that the use of the lion in this and other Jatakas is indirectly a testimony to their great age, as the lion has become\\nrarer and rarer in India during historic times, and is now confined\\nto the Gir forest of Kathiáwar, where only a dozen specimens exist,\\nand are strictly preserved.\"),\n",
       "  0.6754718348601352),\n",
       " (Document(id='8db05189-a4d9-4aba-ba60-fe6a7319fcbc', metadata={'source': 'indianTales.txt', 'start_index': 116756}, page_content='tiger-king, told him how he got it, and requested his kind assistance\\nto separate the gold and diamonds. Manikkasari agreed to do so, and\\nmeanwhile asked his friend to rest himself for a while to have his\\nbath and meals; and Gangazara, who was very observant of his religious\\nceremonies, went direct to the river to bathe.'),\n",
       "  0.6728715284400962),\n",
       " (Document(id='9e81c63b-06e0-4b70-aa95-8d80e5949c64', metadata={'source': 'indianTales.txt', 'start_index': 18950}, page_content='[Illustration:]\\n\\n\"What man hurt you that you roared so loud?\" said the wife.\\n\\n\"No one hurt me,\" answered the husband; \"but a Raja\\'s son came and\\ntook the thorn out of my foot.\"\\n\\n\"Where is he? Show him to me,\" said his wife.\\n\\n\"If you promise not to kill him, I will call him,\" said the tiger.\\n\\n\"I won\\'t kill him; only let me see him,\" answered his wife.\\n\\nThen the tiger called the Raja\\'s son, and when he came the tiger and\\nhis wife made him a great many salaams. Then they gave him a good\\ndinner, and he stayed with them for three days. Every day he looked at\\nthe tiger\\'s foot, and the third day it was quite healed. Then he said\\ngood-bye to the tigers, and the tiger said to him, \"If ever you are in\\ntrouble, think of me, and we will come to you.\"'),\n",
       "  0.6728539601662138)]"
      ]
     },
     "execution_count": 19,
     "metadata": {},
     "output_type": "execute_result"
    }
   ],
   "source": [
    "search_results"
   ]
  },
  {
   "cell_type": "markdown",
   "id": "aef0ce6d",
   "metadata": {},
   "source": [
    "### What is RAG?\n",
    "Retrieve using semantic search and dump the similar chunks in the context of the prompt.\n",
    "LLM sees the question and retrieved docs in its prompt and generates tokens accordingly."
   ]
  },
  {
   "cell_type": "code",
   "execution_count": null,
   "id": "92552a3a",
   "metadata": {},
   "outputs": [],
   "source": [
    "prompt_template = \"\"\"You are an assistant for question-answering tasks. Use the following pieces of retrieved context to answer the question. If you don't know the answer, just say that you don't know. Use three sentences maximum and keep the answer concise.\n",
    "Question: {question} \n",
    "Context: {context} \n",
    "Answer:\"\"\""
   ]
  },
  {
   "cell_type": "code",
   "execution_count": 20,
   "id": "f4152d01",
   "metadata": {},
   "outputs": [
    {
     "name": "stdout",
     "output_type": "stream",
     "text": [
      "In the following Notes I give, as on the two previous occasions, the\n",
      "_source_ whence I derived the tale, then _parallels_, and finally\n",
      "_remarks_. For Indian _parallels_ I have been able to refer to Major\n",
      "Temple's remarkable Analysis of Indian Folk-tale incidents at the end\n",
      "of _Wideawake Stories_ (pp. 386-436), for European ones to my\n",
      "alphabetical List of Incidents, with bibliographical references, in\n",
      "_Transactions of Folk-Lore Congress_, 1892, pp. 87-98. My _remarks_\n",
      "have been mainly devoted to tracing the relation between the Indian\n",
      "and the European tales, with the object of showing that the latter\n",
      "have been derived from the former. I have, however, to some extent\n",
      "handicapped myself, as I have avoided giving again the Indian versions\n",
      "of stories already given in _English Fairy Tales_ or _Celtic Fairy\n",
      "Tales_.\n",
      "\n",
      "\n",
      "I. THE LION AND THE CRANE.\n",
      "==================================================\n",
      "\n",
      "\n",
      "mouth struck one end of the bone with his beak. Whereupon the bone\n",
      "dropped and fell out. As soon as he had caused the bone to fall, he\n",
      "got out of the lion's mouth, striking the stick with his beak so that\n",
      "it fell out, and then settled on a branch. The lion gets well, and\n",
      "one day was eating a buffalo he had killed. The crane thinking \"I will\n",
      "sound him,\" settled on a branch just over him, and in conversation\n",
      "spoke this first verse:\n",
      "==================================================\n",
      "\n",
      "\n",
      "\"A service have we done thee\n",
      "      To the best of our ability,\n",
      "    King of the Beasts! Your Majesty!\n",
      "      What return shall we get from thee?\"\n",
      "\n",
      "In reply the Lion spoke the second verse:\n",
      "\n",
      "    \"As I feed on blood,\n",
      "      And always hunt for prey,\n",
      "    'Tis much that thou art still alive\n",
      "      Having once been between my teeth.\"\n",
      "\n",
      "Then in reply the crane said the two other verses:\n",
      "\n",
      "    \"Ungrateful, doing no good,\n",
      "      Not doing as he would be done by,\n",
      "    In him there is no gratitude,\n",
      "      To serve him is useless.\n",
      "\n",
      "    \"His friendship is not won\n",
      "      By the clearest good deed.\n",
      "    Better softly withdraw from him,\n",
      "      Neither envying nor abusing.\"\n",
      "\n",
      "And having thus spoken the crane flew away.\n",
      "\n",
      "_And when the great Teacher, Gautama the Buddha, told this tale, he\n",
      "used to add: \"Now at that time the lion was Devadatta the Traitor, but\n",
      "the white crane was I myself.\"_\n",
      "\n",
      "[Illustration: THE LION AND THE CRANE]\n",
      "\n",
      "\n",
      "\n",
      "\n",
      "How the Raja's Son won the Princess Labam.\n",
      "==================================================\n",
      "\n",
      "\n",
      "[Illustration: THE LION AND THE CRANE]\n",
      "\n",
      "\n",
      "\n",
      "\n",
      "How the Raja's Son won the Princess Labam.\n",
      "\n",
      "\n",
      "In a country there was a Raja who had an only son who every day went\n",
      "out to hunt. One day the Rani, his mother, said to him, \"You can hunt\n",
      "wherever you like on these three sides; but you must never go to the\n",
      "fourth side.\" This she said because she knew if he went on the fourth\n",
      "side he would hear of the beautiful Princess Labam, and that then he\n",
      "would leave his father and mother and seek for the princess.\n",
      "==================================================\n",
      "\n",
      "\n",
      "The Raja's son thanked him, mounted his horse and continued his\n",
      "journey. He rode on and on until he came to another jungle, and there\n",
      "he saw a tiger who had a thorn in his foot, and was roaring loudly\n",
      "from the pain.\n",
      "\n",
      "\"Why do you roar like that?\" said the young Raja. \"What is the matter\n",
      "with you?\"\n",
      "\n",
      "\"I have had a thorn in my foot for twelve years,\" answered the tiger,\n",
      "\"and it hurts me so; that is why I roar.\"\n",
      "\n",
      "\"Well,\" said the Raja's son, \"I will take it out for you. But\n",
      "perhaps, as you are a tiger, when I have made you well, you will eat\n",
      "me?\"\n",
      "\n",
      "[Illustration:]\n",
      "\n",
      "\"Oh, no,\" said the tiger, \"I won't eat you. Do make me well.\"\n",
      "\n",
      "Then the prince took a little knife from his pocket, and cut the thorn\n",
      "out of the tiger's foot; but when he cut, the tiger roared louder than\n",
      "ever--so loud that his wife heard him in the next jungle, and came\n",
      "bounding along to see what was the matter. The tiger saw her coming,\n",
      "and hid the prince in the jungle, so that she should not see him.\n",
      "\n",
      "[Illustration:]\n",
      "==================================================\n",
      "\n",
      "\n",
      "He reached Benares, and lived there for more than ten years, and quite\n",
      "forgot the tiger, serpent, rat, and goldsmith. After ten years of\n",
      "religious life, thoughts of home and of his brother rushed into his\n",
      "mind. \"I have secured enough merit now by my religious observances.\n",
      "Let me return home.\" Thus thought Gangazara within himself, and very\n",
      "soon he was on his way back to his country. Remembering the prophecy\n",
      "of his father he returned by the same way by which he went to Benares\n",
      "ten years before. While thus retracing his steps he reached the ruined\n",
      "well where he had released the three brute kings and the goldsmith. At\n",
      "once the old recollections rushed into his mind, and he thought of the\n",
      "tiger to test his fidelity. Only a moment passed, and the tiger-king\n",
      "came running before him carrying a large crown in his mouth, the\n",
      "glitter of the diamonds of which for a time outshone even the bright\n",
      "rays of the sun. He dropped the crown at his life-giver's feet, and,\n",
      "==================================================\n",
      "\n",
      "\n",
      "a sea coast, and not by a tiger.\" Thus thinking, he asked the\n",
      "tiger-king to hold tight to the vessel, which he accordingly did, and\n",
      "he lifted him up slowly. The tiger reached the top of the well and\n",
      "felt himself on safe ground. True to his word, he did no harm to\n",
      "Gangazara. On the other hand, he walked round his patron three times,\n",
      "and standing before him, humbly spoke the following words: \"My\n",
      "life-giver, my benefactor! I shall never forget this day, when I\n",
      "regained my life through your kind hands. In return for this kind\n",
      "assistance I pledge my oath to stand by you in all calamities.\n",
      "Whenever you are in any difficulty just think of me. I am there with\n",
      "you ready to oblige you by all the means that I can. To tell you\n",
      "briefly how I came in here: Three days ago I was roaming in yonder\n",
      "forest, when I saw a goldsmith passing through it. I chased him. He,\n",
      "finding it impossible to escape my claws, jumped into this well, and\n",
      "is living to this moment in the very bottom of it. I also jumped in,\n",
      "==================================================\n",
      "\n",
      "\n",
      "in his _Assemblies of Æsopic Fables_, which I have shown to be the\n",
      "source of Phædrus' Fables c. 30 A.D. Besides this, it came from\n",
      "Ceylon in the Fables of Kybises--_i.e._, Kasyapa the Buddha--c. 50\n",
      "A.D., was adapted into Hebrew, and used for political purposes, by\n",
      "Rabbi Joshua ben Chananyah in a harangue to the Jews c. 120 A.D.,\n",
      "begging them to be patient while within the jaws of Rome. The Hebrew\n",
      "form uses the lion, not the wolf, as the ingrate, which enables us\n",
      "to decide on the Indian _provenance_ of the Midrashic version. It may\n",
      "be remarked that the use of the lion in this and other Jatakas is indirectly a testimony to their great age, as the lion has become\n",
      "rarer and rarer in India during historic times, and is now confined\n",
      "to the Gir forest of Kathiáwar, where only a dozen specimens exist,\n",
      "and are strictly preserved.\n",
      "==================================================\n",
      "\n",
      "\n",
      "tiger-king, told him how he got it, and requested his kind assistance\n",
      "to separate the gold and diamonds. Manikkasari agreed to do so, and\n",
      "meanwhile asked his friend to rest himself for a while to have his\n",
      "bath and meals; and Gangazara, who was very observant of his religious\n",
      "ceremonies, went direct to the river to bathe.\n",
      "==================================================\n",
      "\n",
      "\n",
      "[Illustration:]\n",
      "\n",
      "\"What man hurt you that you roared so loud?\" said the wife.\n",
      "\n",
      "\"No one hurt me,\" answered the husband; \"but a Raja's son came and\n",
      "took the thorn out of my foot.\"\n",
      "\n",
      "\"Where is he? Show him to me,\" said his wife.\n",
      "\n",
      "\"If you promise not to kill him, I will call him,\" said the tiger.\n",
      "\n",
      "\"I won't kill him; only let me see him,\" answered his wife.\n",
      "\n",
      "Then the tiger called the Raja's son, and when he came the tiger and\n",
      "his wife made him a great many salaams. Then they gave him a good\n",
      "dinner, and he stayed with them for three days. Every day he looked at\n",
      "the tiger's foot, and the third day it was quite healed. Then he said\n",
      "good-bye to the tigers, and the tiger said to him, \"If ever you are in\n",
      "trouble, think of me, and we will come to you.\"\n",
      "==================================================\n",
      "\n"
     ]
    }
   ],
   "source": [
    "doc_content = \"\\n\\n\".join(doc.page_content+\"\\n\"+\"=\"*50+\"\\n\" for (doc,score) in search_results)\n",
    "print(doc_content)"
   ]
  },
  {
   "cell_type": "code",
   "execution_count": 21,
   "id": "395b1451",
   "metadata": {},
   "outputs": [],
   "source": [
    "# make the LLM read see the prompt, and analyse the retrieved document, and generate response\n",
    "\n",
    "from langchain.chat_models import init_chat_model\n",
    "model = init_chat_model(\"llama-3.3-70b-versatile\", model_provider=\"groq\")\n",
    "\n",
    "prompt_template = \"\"\"You are an assistant for question-answering tasks. Use the following pieces of retrieved context to answer the question. If you don't know the answer, just say that you don't know. Use three sentences maximum and keep the answer concise.\n",
    "Question: {question} \n",
    "Context: {context} \n",
    "Answer:\"\"\"\n",
    "\n",
    "response = model.invoke(prompt_template.format(\n",
    "    context=doc_content,\n",
    "    question=\"What is the role of Lion in the story?\"))"
   ]
  },
  {
   "cell_type": "code",
   "execution_count": 22,
   "id": "9d7fdba7",
   "metadata": {},
   "outputs": [
    {
     "data": {
      "text/markdown": [
       "The lion in the story is portrayed as an ungrateful character who fails to show appreciation for the crane's help in removing a bone from its mouth. The lion's reply to the crane's request for reward is that it's lucky the crane is still alive after being in its mouth. The lion is also compared to Devadatta the Traitor, implying that it represents a treacherous or untrustworthy figure."
      ],
      "text/plain": [
       "<IPython.core.display.Markdown object>"
      ]
     },
     "execution_count": 22,
     "metadata": {},
     "output_type": "execute_result"
    }
   ],
   "source": [
    "# Better printing\n",
    "\n",
    "from IPython.display import Markdown\n",
    "Markdown(response.content)"
   ]
  },
  {
   "cell_type": "markdown",
   "id": "7a5ceb2c",
   "metadata": {},
   "source": [
    "# RAG Summary"
   ]
  },
  {
   "cell_type": "code",
   "execution_count": 23,
   "id": "93cd5add",
   "metadata": {},
   "outputs": [
    {
     "name": "stdout",
     "output_type": "stream",
     "text": [
      "Split given book into 563 sub-documents.\n"
     ]
    }
   ],
   "source": [
    "# RAG summary\n",
    "\n",
    "# Read a doc\n",
    "from langchain_community.document_loaders import TextLoader\n",
    "loader = TextLoader(\"indianTales.txt\")\n",
    "docs = loader.load()\n",
    "\n",
    "# Split document into small chunks\n",
    "from langchain_text_splitters import RecursiveCharacterTextSplitter\n",
    "\n",
    "text_splitter = RecursiveCharacterTextSplitter(\n",
    "    chunk_size=1000,  # chunk size (characters)\n",
    "    chunk_overlap=200,  # chunk overlap (characters)\n",
    "    add_start_index=True,  # track index in original document\n",
    ")\n",
    "all_splits = text_splitter.split_documents(docs)\n",
    "\n",
    "print(f\"Split given book into {len(all_splits)} sub-documents.\")\n",
    "\n",
    "# embedding\n",
    "from langchain_google_genai import GoogleGenerativeAIEmbeddings\n",
    "\n",
    "embeddings = GoogleGenerativeAIEmbeddings(model=\"models/embedding-001\")\n",
    "\n",
    "# Create a vector store\n",
    "from langchain_core.vectorstores import InMemoryVectorStore\n",
    "vector_store = InMemoryVectorStore(embeddings)\n",
    "\n",
    "# Adding documents to vector store\n",
    "document_ids = vector_store.add_documents(documents=all_splits)\n"
   ]
  },
  {
   "cell_type": "code",
   "execution_count": 24,
   "id": "b55042e4",
   "metadata": {},
   "outputs": [
    {
     "name": "stdout",
     "output_type": "stream",
     "text": [
      "In the following Notes I give, as on the two previous occasions, the\n",
      "_source_ whence I derived the tale, then _parallels_, and finally\n",
      "_remarks_. For Indian _parallels_ I have been able to refer to Major\n",
      "Temple's remarkable Analysis of Indian Folk-tale incidents at the end\n",
      "of _Wideawake Stories_ (pp. 386-436), for European ones to my\n",
      "alphabetical List of Incidents, with bibliographical references, in\n",
      "_Transactions of Folk-Lore Congress_, 1892, pp. 87-98. My _remarks_\n",
      "have been mainly devoted to tracing the relation between the Indian\n",
      "and the European tales, with the object of showing that the latter\n",
      "have been derived from the former. I have, however, to some extent\n",
      "handicapped myself, as I have avoided giving again the Indian versions\n",
      "of stories already given in _English Fairy Tales_ or _Celtic Fairy\n",
      "Tales_.\n",
      "\n",
      "\n",
      "I. THE LION AND THE CRANE.\n",
      "==================================================\n",
      "\n",
      "\n",
      "mouth struck one end of the bone with his beak. Whereupon the bone\n",
      "dropped and fell out. As soon as he had caused the bone to fall, he\n",
      "got out of the lion's mouth, striking the stick with his beak so that\n",
      "it fell out, and then settled on a branch. The lion gets well, and\n",
      "one day was eating a buffalo he had killed. The crane thinking \"I will\n",
      "sound him,\" settled on a branch just over him, and in conversation\n",
      "spoke this first verse:\n",
      "==================================================\n",
      "\n",
      "\n",
      "\"A service have we done thee\n",
      "      To the best of our ability,\n",
      "    King of the Beasts! Your Majesty!\n",
      "      What return shall we get from thee?\"\n",
      "\n",
      "In reply the Lion spoke the second verse:\n",
      "\n",
      "    \"As I feed on blood,\n",
      "      And always hunt for prey,\n",
      "    'Tis much that thou art still alive\n",
      "      Having once been between my teeth.\"\n",
      "\n",
      "Then in reply the crane said the two other verses:\n",
      "\n",
      "    \"Ungrateful, doing no good,\n",
      "      Not doing as he would be done by,\n",
      "    In him there is no gratitude,\n",
      "      To serve him is useless.\n",
      "\n",
      "    \"His friendship is not won\n",
      "      By the clearest good deed.\n",
      "    Better softly withdraw from him,\n",
      "      Neither envying nor abusing.\"\n",
      "\n",
      "And having thus spoken the crane flew away.\n",
      "\n",
      "_And when the great Teacher, Gautama the Buddha, told this tale, he\n",
      "used to add: \"Now at that time the lion was Devadatta the Traitor, but\n",
      "the white crane was I myself.\"_\n",
      "\n",
      "[Illustration: THE LION AND THE CRANE]\n",
      "\n",
      "\n",
      "\n",
      "\n",
      "How the Raja's Son won the Princess Labam.\n",
      "==================================================\n",
      "\n",
      "\n",
      "[Illustration: THE LION AND THE CRANE]\n",
      "\n",
      "\n",
      "\n",
      "\n",
      "How the Raja's Son won the Princess Labam.\n",
      "\n",
      "\n",
      "In a country there was a Raja who had an only son who every day went\n",
      "out to hunt. One day the Rani, his mother, said to him, \"You can hunt\n",
      "wherever you like on these three sides; but you must never go to the\n",
      "fourth side.\" This she said because she knew if he went on the fourth\n",
      "side he would hear of the beautiful Princess Labam, and that then he\n",
      "would leave his father and mother and seek for the princess.\n",
      "==================================================\n",
      "\n",
      "\n",
      "The Raja's son thanked him, mounted his horse and continued his\n",
      "journey. He rode on and on until he came to another jungle, and there\n",
      "he saw a tiger who had a thorn in his foot, and was roaring loudly\n",
      "from the pain.\n",
      "\n",
      "\"Why do you roar like that?\" said the young Raja. \"What is the matter\n",
      "with you?\"\n",
      "\n",
      "\"I have had a thorn in my foot for twelve years,\" answered the tiger,\n",
      "\"and it hurts me so; that is why I roar.\"\n",
      "\n",
      "\"Well,\" said the Raja's son, \"I will take it out for you. But\n",
      "perhaps, as you are a tiger, when I have made you well, you will eat\n",
      "me?\"\n",
      "\n",
      "[Illustration:]\n",
      "\n",
      "\"Oh, no,\" said the tiger, \"I won't eat you. Do make me well.\"\n",
      "\n",
      "Then the prince took a little knife from his pocket, and cut the thorn\n",
      "out of the tiger's foot; but when he cut, the tiger roared louder than\n",
      "ever--so loud that his wife heard him in the next jungle, and came\n",
      "bounding along to see what was the matter. The tiger saw her coming,\n",
      "and hid the prince in the jungle, so that she should not see him.\n",
      "\n",
      "[Illustration:]\n",
      "==================================================\n",
      "\n",
      "\n",
      "He reached Benares, and lived there for more than ten years, and quite\n",
      "forgot the tiger, serpent, rat, and goldsmith. After ten years of\n",
      "religious life, thoughts of home and of his brother rushed into his\n",
      "mind. \"I have secured enough merit now by my religious observances.\n",
      "Let me return home.\" Thus thought Gangazara within himself, and very\n",
      "soon he was on his way back to his country. Remembering the prophecy\n",
      "of his father he returned by the same way by which he went to Benares\n",
      "ten years before. While thus retracing his steps he reached the ruined\n",
      "well where he had released the three brute kings and the goldsmith. At\n",
      "once the old recollections rushed into his mind, and he thought of the\n",
      "tiger to test his fidelity. Only a moment passed, and the tiger-king\n",
      "came running before him carrying a large crown in his mouth, the\n",
      "glitter of the diamonds of which for a time outshone even the bright\n",
      "rays of the sun. He dropped the crown at his life-giver's feet, and,\n",
      "==================================================\n",
      "\n",
      "\n",
      "a sea coast, and not by a tiger.\" Thus thinking, he asked the\n",
      "tiger-king to hold tight to the vessel, which he accordingly did, and\n",
      "he lifted him up slowly. The tiger reached the top of the well and\n",
      "felt himself on safe ground. True to his word, he did no harm to\n",
      "Gangazara. On the other hand, he walked round his patron three times,\n",
      "and standing before him, humbly spoke the following words: \"My\n",
      "life-giver, my benefactor! I shall never forget this day, when I\n",
      "regained my life through your kind hands. In return for this kind\n",
      "assistance I pledge my oath to stand by you in all calamities.\n",
      "Whenever you are in any difficulty just think of me. I am there with\n",
      "you ready to oblige you by all the means that I can. To tell you\n",
      "briefly how I came in here: Three days ago I was roaming in yonder\n",
      "forest, when I saw a goldsmith passing through it. I chased him. He,\n",
      "finding it impossible to escape my claws, jumped into this well, and\n",
      "is living to this moment in the very bottom of it. I also jumped in,\n",
      "==================================================\n",
      "\n",
      "\n",
      "in his _Assemblies of Æsopic Fables_, which I have shown to be the\n",
      "source of Phædrus' Fables c. 30 A.D. Besides this, it came from\n",
      "Ceylon in the Fables of Kybises--_i.e._, Kasyapa the Buddha--c. 50\n",
      "A.D., was adapted into Hebrew, and used for political purposes, by\n",
      "Rabbi Joshua ben Chananyah in a harangue to the Jews c. 120 A.D.,\n",
      "begging them to be patient while within the jaws of Rome. The Hebrew\n",
      "form uses the lion, not the wolf, as the ingrate, which enables us\n",
      "to decide on the Indian _provenance_ of the Midrashic version. It may\n",
      "be remarked that the use of the lion in this and other Jatakas is indirectly a testimony to their great age, as the lion has become\n",
      "rarer and rarer in India during historic times, and is now confined\n",
      "to the Gir forest of Kathiáwar, where only a dozen specimens exist,\n",
      "and are strictly preserved.\n",
      "==================================================\n",
      "\n",
      "\n",
      "tiger-king, told him how he got it, and requested his kind assistance\n",
      "to separate the gold and diamonds. Manikkasari agreed to do so, and\n",
      "meanwhile asked his friend to rest himself for a while to have his\n",
      "bath and meals; and Gangazara, who was very observant of his religious\n",
      "ceremonies, went direct to the river to bathe.\n",
      "==================================================\n",
      "\n",
      "\n",
      "[Illustration:]\n",
      "\n",
      "\"What man hurt you that you roared so loud?\" said the wife.\n",
      "\n",
      "\"No one hurt me,\" answered the husband; \"but a Raja's son came and\n",
      "took the thorn out of my foot.\"\n",
      "\n",
      "\"Where is he? Show him to me,\" said his wife.\n",
      "\n",
      "\"If you promise not to kill him, I will call him,\" said the tiger.\n",
      "\n",
      "\"I won't kill him; only let me see him,\" answered his wife.\n",
      "\n",
      "Then the tiger called the Raja's son, and when he came the tiger and\n",
      "his wife made him a great many salaams. Then they gave him a good\n",
      "dinner, and he stayed with them for three days. Every day he looked at\n",
      "the tiger's foot, and the third day it was quite healed. Then he said\n",
      "good-bye to the tigers, and the tiger said to him, \"If ever you are in\n",
      "trouble, think of me, and we will come to you.\"\n",
      "==================================================\n",
      "\n"
     ]
    }
   ],
   "source": [
    "# extract chunks which matches with your query\n",
    "\n",
    "search_results = vector_store.similarity_search_with_score(\n",
    "    \"What is the role of Lion in the story?\",\n",
    "    k = 10\n",
    ")\n",
    "\n",
    "doc_content = \"\\n\\n\".join(doc.page_content+\"\\n\"+\"=\"*50+\"\\n\" for (doc,score) in search_results)\n",
    "print(doc_content)"
   ]
  },
  {
   "cell_type": "code",
   "execution_count": 25,
   "id": "94122ba7",
   "metadata": {},
   "outputs": [
    {
     "data": {
      "text/markdown": [
       "The lion in the story is portrayed as ungrateful and selfish, as it fails to show appreciation to the crane for helping it by removing a bone from its mouth. The lion's response to the crane's expectation of gratitude is that it's lucky to be alive after being between its teeth. The lion is also symbolic, as it is mentioned that when the great Teacher, Gautama the Buddha, told this tale, he used to add that the lion was Devadatta the Traitor."
      ],
      "text/plain": [
       "<IPython.core.display.Markdown object>"
      ]
     },
     "execution_count": 25,
     "metadata": {},
     "output_type": "execute_result"
    }
   ],
   "source": [
    "prompt_template = \"\"\"You are an assistant for question-answering tasks. Use the following pieces of retrieved context to answer the question. If you don't know the answer, just say that you don't know. Use three sentences maximum and keep the answer concise.\n",
    "Question: {question} \n",
    "Context: {context} \n",
    "Answer:\"\"\"\n",
    "\n",
    "response = model.invoke(prompt_template.format(\n",
    "    context=doc_content,\n",
    "    question=\"What is the role of Lion in the story?\"))\n",
    "\n",
    "\n",
    "from IPython.display import Markdown\n",
    "Markdown(response.content)"
   ]
  },
  {
   "cell_type": "code",
   "execution_count": null,
   "id": "9053cdb8",
   "metadata": {},
   "outputs": [],
   "source": []
  }
 ],
 "metadata": {
  "kernelspec": {
   "display_name": "mat496-monsoon2025",
   "language": "python",
   "name": "python3"
  },
  "language_info": {
   "codemirror_mode": {
    "name": "ipython",
    "version": 3
   },
   "file_extension": ".py",
   "mimetype": "text/x-python",
   "name": "python",
   "nbconvert_exporter": "python",
   "pygments_lexer": "ipython3",
   "version": "3.12.11"
  }
 },
 "nbformat": 4,
 "nbformat_minor": 5
}
