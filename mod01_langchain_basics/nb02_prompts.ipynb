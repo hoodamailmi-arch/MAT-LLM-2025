{
 "cells": [
  {
   "cell_type": "code",
   "execution_count": 1,
   "id": "682c4c87",
   "metadata": {},
   "outputs": [
    {
     "data": {
      "text/plain": [
       "True"
      ]
     },
     "execution_count": 1,
     "metadata": {},
     "output_type": "execute_result"
    }
   ],
   "source": [
    "from dotenv import load_dotenv\n",
    "load_dotenv()"
   ]
  },
  {
   "cell_type": "markdown",
   "id": "2bb1d276",
   "metadata": {},
   "source": [
    "# Example 1"
   ]
  },
  {
   "cell_type": "code",
   "execution_count": 2,
   "id": "a0e461e5",
   "metadata": {},
   "outputs": [],
   "source": [
    "from langchain.chat_models import init_chat_model\n",
    "\n",
    "model = init_chat_model(\"llama3-8b-8192\", model_provider=\"groq\")"
   ]
  },
  {
   "cell_type": "code",
   "execution_count": 3,
   "id": "2ca18e76",
   "metadata": {},
   "outputs": [],
   "source": [
    "# Prompt template\n",
    "\n",
    "prompt_template = \"\"\"Translate the given text in to the given language: \n",
    "Text: {text}\n",
    "Lang: {lang}\n",
    "\"\"\""
   ]
  },
  {
   "cell_type": "code",
   "execution_count": 4,
   "id": "8ca177aa",
   "metadata": {},
   "outputs": [
    {
     "name": "stdout",
     "output_type": "stream",
     "text": [
      "Translate the given text in to the given language: \n",
      "Text: Who are you?\n",
      "Lang: hindi\n",
      "\n"
     ]
    }
   ],
   "source": [
    "prompt = prompt_template.format(text = \"Who are you?\", lang=\"hindi\")\n",
    "print(prompt)"
   ]
  },
  {
   "cell_type": "code",
   "execution_count": 5,
   "id": "a6f93f75",
   "metadata": {},
   "outputs": [
    {
     "data": {
      "text/plain": [
       "AIMessage(content='The translation of \"Who are you?\" in Hindi is:\\n\\nक्या आप कौन हैं?\\n\\n(Kya aap kaun hai?)', additional_kwargs={}, response_metadata={'token_usage': {'completion_tokens': 30, 'prompt_tokens': 31, 'total_tokens': 61, 'completion_time': 0.022682244, 'prompt_time': 0.006065813, 'queue_time': 0.049294576, 'total_time': 0.028748057}, 'model_name': 'llama3-8b-8192', 'system_fingerprint': 'fp_4b5fbf0ced', 'service_tier': 'on_demand', 'finish_reason': 'stop', 'logprobs': None}, id='run--667384a0-9f82-474a-9595-a6e1f47ea1b4-0', usage_metadata={'input_tokens': 31, 'output_tokens': 30, 'total_tokens': 61})"
      ]
     },
     "execution_count": 5,
     "metadata": {},
     "output_type": "execute_result"
    }
   ],
   "source": [
    "# A simple model call\n",
    "\n",
    "response =  model.invoke(prompt)\n",
    "response"
   ]
  },
  {
   "cell_type": "code",
   "execution_count": 6,
   "id": "044667ec",
   "metadata": {},
   "outputs": [
    {
     "name": "stdout",
     "output_type": "stream",
     "text": [
      "The translation of \"Who are you?\" in Hindi is:\n",
      "\n",
      "क्या आप कौन हैं?\n",
      "\n",
      "(Kya aap kaun hai?)\n"
     ]
    }
   ],
   "source": [
    "print(response.content)"
   ]
  },
  {
   "cell_type": "markdown",
   "id": "ee4fd624",
   "metadata": {},
   "source": [
    "# Exercise: A RAG Prompt (Retreival Augmented Generation)\n",
    "\n",
    "https://smith.langchain.com/hub/rlm/rag-prompt"
   ]
  },
  {
   "cell_type": "code",
   "execution_count": 9,
   "id": "959ec4c5",
   "metadata": {},
   "outputs": [],
   "source": [
    "prompt_template = \"\"\"You are an assistant for question-answering tasks. Use the following pieces of retrieved context to answer the question. If you don't know the answer, just say that you don't know. Use three sentences maximum and keep the answer concise.\n",
    "Question: {question} \n",
    "Context: {context} \n",
    "Answer:\"\"\""
   ]
  },
  {
   "cell_type": "code",
   "execution_count": 10,
   "id": "15482b5e",
   "metadata": {},
   "outputs": [
    {
     "name": "stdout",
     "output_type": "stream",
     "text": [
      "Ajit lives in India, specifically in Greater Noida.\n"
     ]
    }
   ],
   "source": [
    "prompt = prompt_template.format(\n",
    "    context = \"Ajit lives in Greater Noida\", \n",
    "    question=\"In which country does Ajit live in?\"\n",
    ")\n",
    "\n",
    "from langchain.chat_models import init_chat_model\n",
    "model = init_chat_model(\"llama3-8b-8192\", model_provider=\"groq\")\n",
    "\n",
    "response = model.invoke(prompt)\n",
    "print(response.content)"
   ]
  },
  {
   "cell_type": "code",
   "execution_count": null,
   "id": "aabbd227",
   "metadata": {},
   "outputs": [],
   "source": [
    "# Exercise time:\n",
    "\n",
    "# Change the context to your liking\n",
    "# Ask relevanent question to your context\n"
   ]
  },
  {
   "cell_type": "code",
   "execution_count": 14,
   "id": "c35ab1f9",
   "metadata": {},
   "outputs": [],
   "source": [
    "news_context = \"\"\"Donald Trump's top economic adviser has warned that if India fails to curb its Russian crude trade, the US President will not ease his stance on Washington's punitive tariffs on Indian imports. US National Economic Council Director Kevin Hassett called trade negotiations with New Delhi \"complicated\", as he accused India of \"intransigence\" in opening its markets to American products. \n",
    "\n",
    "\"If the Indians don't budge, I don't think President Trump will,\" he said. The United States on Wednesday doubled tariffs on Indian goods to a staggering 50 per cent, the highest for any country other than Brazil. This includes a 25 per cent additional duty for India's purchase of Russian crude oil.\n",
    "\n",
    "Add NDTV As A Trusted Source\n",
    "\n",
    "\"Indian Intransigence\" 🤯: US Economic Adviser - \"If the Indians Don't Budge, I Don't Think Trump Will Either\"\n",
    "\n",
    "Kevin Hassett seems to think that protecting India's rights and rejecting elements of an FTA that aren't mutually beneficial is INTRANSIGENT - simply India refusing to… https://t.co/gBZ3C9DEFS pic.twitter.com/cnWGXmUwAP\n",
    "\n",
    "— RT_India (@RT_India_news) August 28, 2025\n",
    "Hassett said trade negotiations with India were \"complicated\", claiming part of it \"has been tied to the pressure we've been trying to put on Russia in order to secure a peace deal and save millions of lives. And then there's the Indian intransigence about opening their markets to our products.\"\n",
    "\n",
    "Linking India-US trade negotiations to a marathon, Hassett said talks require a long-term outlook and acceptance of \"ebbs and flows\" before New Delhi and Washington reach the final position.\n",
    "\n",
    "\n",
    "\"When you look at trade negotiations, one lesson we've all learnt is that you need to keep your eyes on the horizon and recognise that there are going to be ebbs and flows before we reach the final position,\" he said.\n",
    "\n",
    "Team Trump's Tariff Outlook\n",
    "The Trump adviser's remarks echoed US Treasury Secretary Scott Bessent's earlier comments, where he said high tariffs on India are \"not just over India's purchase of Russian oil\" but also due to the protracted nature of the ongoing trade deal talks.\n",
    "\n",
    "\"I'd thought we'd have a deal in May or June; that India could be one of the earliest deals. But they, kind of, tapped us along,\" Bessent told Fox Business on Wednesday. \n",
    "\n",
    "He claimed New Delhi had been \"a bit uncooperative\" during negotiations and said, \"This is a very complicated relationship.\"\n",
    "\n",
    "\"I do think India is the world's largest democracy, and the US is the world's largest economy. I think at the end of the day we will come together,\" he added.\n",
    "\n",
    "India's Stand\n",
    "India has asserted that it is prepared to stand firm against US pressure, with Prime Minister Narendra Modi vowing he would \"never compromise\" the interests of the country's farmers.\n",
    "\n",
    "The government estimates the tariffs will impact $48.2 billion worth of Indian exports to the US. Officials have warned that, though the immediate impact of new duties appears limited, the ripple effects on the economy pose challenges that must be addressed.\n",
    "\n",
    "The new duties could make shipments to the US commercially unviable, triggering job losses and slower economic growth, they said.\"\"\""
   ]
  },
  {
   "cell_type": "code",
   "execution_count": 15,
   "id": "b1b7af5b",
   "metadata": {},
   "outputs": [
    {
     "name": "stdout",
     "output_type": "stream",
     "text": [
      "The US has doubled tariffs on Indian goods to 50%, with a 25% additional duty on Indian purchases of Russian crude oil. This move is in response to India's refusal to open its markets to American products and \"intransigence\" in trade negotiations.\n"
     ]
    }
   ],
   "source": [
    "prompt = prompt_template.format(\n",
    "    context = news_context, \n",
    "    question=\"Summarize the US Tarrif policy for India\"\n",
    ")\n",
    "\n",
    "from langchain.chat_models import init_chat_model\n",
    "model = init_chat_model(\"llama3-8b-8192\", model_provider=\"groq\")\n",
    "\n",
    "response = model.invoke(prompt)\n",
    "print(response.content)"
   ]
  },
  {
   "cell_type": "code",
   "execution_count": null,
   "id": "fafde195",
   "metadata": {},
   "outputs": [],
   "source": [
    "# Exercise: \n",
    "\n",
    "# Copy paste an online blog as a context. \n",
    "# Ask question related to that blog.\n"
   ]
  },
  {
   "cell_type": "code",
   "execution_count": null,
   "id": "645eb5a0",
   "metadata": {},
   "outputs": [],
   "source": [
    "# Exercise:\n",
    "\n",
    "# How to put \n",
    "# context = content of a local file"
   ]
  }
 ],
 "metadata": {
  "kernelspec": {
   "display_name": "mat496-monsoon2025",
   "language": "python",
   "name": "python3"
  },
  "language_info": {
   "codemirror_mode": {
    "name": "ipython",
    "version": 3
   },
   "file_extension": ".py",
   "mimetype": "text/x-python",
   "name": "python",
   "nbconvert_exporter": "python",
   "pygments_lexer": "ipython3",
   "version": "3.12.11"
  }
 },
 "nbformat": 4,
 "nbformat_minor": 5
}
