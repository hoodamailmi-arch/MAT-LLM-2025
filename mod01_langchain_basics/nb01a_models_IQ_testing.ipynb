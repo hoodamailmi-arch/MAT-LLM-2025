{
 "cells": [
  {
   "cell_type": "code",
   "execution_count": 1,
   "id": "682c4c87",
   "metadata": {},
   "outputs": [
    {
     "data": {
      "text/plain": [
       "True"
      ]
     },
     "execution_count": 1,
     "metadata": {},
     "output_type": "execute_result"
    }
   ],
   "source": [
    "from dotenv import load_dotenv\n",
    "load_dotenv()"
   ]
  },
  {
   "cell_type": "code",
   "execution_count": 2,
   "id": "a0e461e5",
   "metadata": {},
   "outputs": [],
   "source": [
    "from langchain.chat_models import init_chat_model\n",
    "\n",
    "model = init_chat_model(\"llama3-8b-8192\", model_provider=\"groq\")"
   ]
  },
  {
   "cell_type": "code",
   "execution_count": 4,
   "id": "8b215da3",
   "metadata": {},
   "outputs": [],
   "source": [
    "# invoking to build a converstation style call\n",
    "\n",
    "from langchain_core.messages import HumanMessage, SystemMessage\n",
    "\n",
    "messages = [\n",
    "    SystemMessage(\"You are a helpful assistant. Answer the user query to the best of your memory.\"),\n",
    "    HumanMessage(\"Suggest a question to test someone's IQ. Also give the answer.\"),\n",
    "]\n",
    "\n",
    "response = model.invoke(messages)"
   ]
  },
  {
   "cell_type": "code",
   "execution_count": 5,
   "id": "bd612474",
   "metadata": {},
   "outputs": [
    {
     "data": {
      "text/plain": [
       "AIMessage(content='Here\\'s a classic IQ-style question:\\n\\n**Question:** A snail is at the bottom of a 20-foot well. Each day, it climbs up 3 feet, but at night, it slips back 2 feet. How many days will it take for the snail to reach the top of the well?\\n\\n**Answer:** 18 days\\n\\nHere\\'s the solution:\\n\\n* Day 1: Snail climbs 3 feet, so it\\'s at 3 feet.\\n* Night 1: Snail slips back 2 feet, so it\\'s at 1 foot.\\n* Day 2: Snail climbs 3 feet, so it\\'s at 4 feet.\\n* Night 2: Snail slips back 2 feet, so it\\'s at 2 feet.\\n* ...\\n* Day 18: Snail climbs 3 feet, so it\\'s at 20 feet, which is the top of the well.\\n\\nThis question requires logical thinking, mathematical calculation, and an understanding of the problem\\'s constraints. It\\'s a classic example of a \"lateral thinking\" puzzle, which challenges the test-taker to think creatively and outside the box.', additional_kwargs={}, response_metadata={'token_usage': {'completion_tokens': 235, 'prompt_tokens': 47, 'total_tokens': 282, 'completion_time': 0.163710793, 'prompt_time': 0.005767344, 'queue_time': 0.049182376, 'total_time': 0.169478137}, 'model_name': 'llama3-8b-8192', 'system_fingerprint': 'fp_4b5fbf0ced', 'service_tier': 'on_demand', 'finish_reason': 'stop', 'logprobs': None}, id='run--bd54912c-e018-490a-8ea6-26a93f9e588d-0', usage_metadata={'input_tokens': 47, 'output_tokens': 235, 'total_tokens': 282})"
      ]
     },
     "execution_count": 5,
     "metadata": {},
     "output_type": "execute_result"
    }
   ],
   "source": [
    "response"
   ]
  },
  {
   "cell_type": "code",
   "execution_count": 7,
   "id": "a444466b",
   "metadata": {},
   "outputs": [
    {
     "name": "stdout",
     "output_type": "stream",
     "text": [
      "Here's a classic IQ-style question:\n",
      "\n",
      "**Question:** A snail is at the bottom of a 20-foot well. Each day, it climbs up 3 feet, but at night, it slips back 2 feet. How many days will it take for the snail to reach the top of the well?\n",
      "\n",
      "**Answer:** 18 days\n",
      "\n",
      "Here's the solution:\n",
      "\n",
      "* Day 1: Snail climbs 3 feet, so it's at 3 feet.\n",
      "* Night 1: Snail slips back 2 feet, so it's at 1 foot.\n",
      "* Day 2: Snail climbs 3 feet, so it's at 4 feet.\n",
      "* Night 2: Snail slips back 2 feet, so it's at 2 feet.\n",
      "* ...\n",
      "* Day 18: Snail climbs 3 feet, so it's at 20 feet, which is the top of the well.\n",
      "\n",
      "This question requires logical thinking, mathematical calculation, and an understanding of the problem's constraints. It's a classic example of a \"lateral thinking\" puzzle, which challenges the test-taker to think creatively and outside the box.\n"
     ]
    }
   ],
   "source": [
    "print(response.content)"
   ]
  },
  {
   "cell_type": "code",
   "execution_count": 9,
   "id": "25606b23",
   "metadata": {},
   "outputs": [
    {
     "name": "stdout",
     "output_type": "stream",
     "text": [
      "To find the number of days it will take for the snail to reach the top, let's analyze its daily progress. \n",
      "\n",
      "Each day, the snail climbs 3 feet and slips back 2 feet at night, resulting in a net progress of 1 foot per day. \n",
      "\n",
      "Since the well is 40 feet deep, we can calculate the number of days it takes for the snail to reach the top as follows:\n",
      "\n",
      "- For the first 37 feet, the snail makes a net progress of 1 foot per day. So, it takes 37 days to cover the first 37 feet.\n",
      "- On the 38th day, the snail climbs 3 feet and reaches 40 feet, which is the top of the well. Since it has already reached the top, it won't slip back.\n",
      "\n",
      "Therefore, it will take the snail 38 days to reach the top of the 40-foot well.\n"
     ]
    }
   ],
   "source": [
    "# Lets test another model if they can solve this problem\n",
    "\n",
    "from langchain.chat_models import init_chat_model\n",
    "\n",
    "model = init_chat_model(\"llama-3.3-70b-versatile\", model_provider=\"groq\")\n",
    "\n",
    "response = model.invoke(\"A snail is at the bottom of a 40-foot well. Each day, it climbs up 3 feet, but at night, it slips back 2 feet. How many days will it take for the snail to reach the top of the well?\")\n",
    "\n",
    "print(response.content)"
   ]
  },
  {
   "cell_type": "code",
   "execution_count": null,
   "id": "4a9c12bf",
   "metadata": {},
   "outputs": [],
   "source": []
  }
 ],
 "metadata": {
  "kernelspec": {
   "display_name": "mat496-monsoon2025",
   "language": "python",
   "name": "python3"
  },
  "language_info": {
   "codemirror_mode": {
    "name": "ipython",
    "version": 3
   },
   "file_extension": ".py",
   "mimetype": "text/x-python",
   "name": "python",
   "nbconvert_exporter": "python",
   "pygments_lexer": "ipython3",
   "version": "3.12.11"
  }
 },
 "nbformat": 4,
 "nbformat_minor": 5
}
