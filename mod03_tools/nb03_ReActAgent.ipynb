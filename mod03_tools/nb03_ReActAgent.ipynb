{
 "cells": [
  {
   "cell_type": "code",
   "execution_count": 2,
   "id": "e9541200",
   "metadata": {},
   "outputs": [
    {
     "data": {
      "text/plain": [
       "True"
      ]
     },
     "execution_count": 2,
     "metadata": {},
     "output_type": "execute_result"
    }
   ],
   "source": [
    "from dotenv import load_dotenv\n",
    "load_dotenv(override=True)"
   ]
  },
  {
   "cell_type": "code",
   "execution_count": 8,
   "id": "a710feac",
   "metadata": {},
   "outputs": [],
   "source": [
    "from langchain_core.tools import tool\n",
    "\n",
    "@tool\n",
    "def laugh() -> str:\n",
    "    \"\"\" Call this tool if the mood is funny\"\"\"\n",
    "    return \"HAHAHAHAHAH\"\n",
    "\n",
    "\n",
    "@tool\n",
    "def sad() -> str:\n",
    "    \"\"\" Call this tool if you want to show sad, depressed, or negative feelings\"\"\"\n",
    "    return \"I am sad\"\n",
    "\n",
    "\n",
    "@tool\n",
    "def happy() -> str:\n",
    "    \"\"\" Call this tool if you want to show happiness or positive feeling\"\"\"\n",
    "    return \"I am happy\"\n"
   ]
  },
  {
   "cell_type": "code",
   "execution_count": 9,
   "id": "8945c71c",
   "metadata": {},
   "outputs": [],
   "source": [
    "tools_list = [laugh, sad, happy ]\n",
    "tools_dict = {t.name: t for t in tools_list} "
   ]
  },
  {
   "cell_type": "code",
   "execution_count": 10,
   "id": "c6cbdcb1",
   "metadata": {},
   "outputs": [],
   "source": [
    "from langgraph.prebuilt import create_react_agent\n",
    "\n",
    "\n",
    "agent = create_react_agent(\"groq:openai/gpt-oss-120b\", tools_list)"
   ]
  },
  {
   "cell_type": "code",
   "execution_count": 12,
   "id": "a024d984",
   "metadata": {},
   "outputs": [
    {
     "data": {
      "text/plain": [
       "{'messages': [HumanMessage(content='Life is mean.', additional_kwargs={}, response_metadata={}, id='585629ab-d770-4f22-a9ba-fd5f0f9758db'),\n",
       "  AIMessage(content='', additional_kwargs={'reasoning_content': 'User says \"Life is mean.\" Likely expressing negative sentiment. We should respond empathetically, perhaps offer support. Use sad tool? The user expresses negativity. The instruction: \"Call this tool if you want to show sad, depressed, or negative feelings\". So we can use sad tool to convey empathy. Then respond with supportive words.', 'tool_calls': [{'id': 'fc_989aeac7-9d1e-4e10-8cac-da9fb23fd054', 'function': {'arguments': '{}', 'name': 'sad'}, 'type': 'function'}]}, response_metadata={'token_usage': {'completion_tokens': 88, 'prompt_tokens': 170, 'total_tokens': 258, 'completion_time': 0.181343066, 'prompt_time': 0.007048972, 'queue_time': 0.053875528, 'total_time': 0.188392038}, 'model_name': 'openai/gpt-oss-120b', 'system_fingerprint': 'fp_ed9190d8b7', 'service_tier': 'on_demand', 'finish_reason': 'tool_calls', 'logprobs': None}, id='run--c059bd50-dc80-4649-82d9-b1077f0f0479-0', tool_calls=[{'name': 'sad', 'args': {}, 'id': 'fc_989aeac7-9d1e-4e10-8cac-da9fb23fd054', 'type': 'tool_call'}], usage_metadata={'input_tokens': 170, 'output_tokens': 88, 'total_tokens': 258}),\n",
       "  ToolMessage(content='I am sad', name='sad', id='10ea2372-27b2-44c9-bd25-92d17c034346', tool_call_id='fc_989aeac7-9d1e-4e10-8cac-da9fb23fd054'),\n",
       "  AIMessage(content='I’m really sorry you’re feeling this way. It can be overwhelming when it seems like life is being harsh toward you. If you’d like to talk about what’s been going on, I’m here to listen—sometimes just putting those thoughts into words can bring a little relief. And if there’s anything specific I can do to help, please let me know. You don’t have to face it alone.', additional_kwargs={'reasoning_content': 'User says \"Life is mean.\" They express negativity. The assistant should respond empathetically, possibly offering support, acknowledging feelings, maybe some encouraging words. Use a sad tone? The system says we can call sad function to show sadness. We already called sad, which presumably displays a sad feeling. Now respond with empathy.'}, response_metadata={'token_usage': {'completion_tokens': 157, 'prompt_tokens': 193, 'total_tokens': 350, 'completion_time': 0.31316487, 'prompt_time': 0.009285195, 'queue_time': 0.052619585, 'total_time': 0.322450065}, 'model_name': 'openai/gpt-oss-120b', 'system_fingerprint': 'fp_213abb2467', 'service_tier': 'on_demand', 'finish_reason': 'stop', 'logprobs': None}, id='run--9c1d31b1-25fa-4481-9f1d-7afe63c61ad2-0', usage_metadata={'input_tokens': 193, 'output_tokens': 157, 'total_tokens': 350})]}"
      ]
     },
     "execution_count": 12,
     "metadata": {},
     "output_type": "execute_result"
    }
   ],
   "source": [
    "agent.invoke({\"messages\": \"Life is mean.\"})"
   ]
  },
  {
   "cell_type": "code",
   "execution_count": null,
   "id": "7bdf9cc1",
   "metadata": {},
   "outputs": [],
   "source": []
  }
 ],
 "metadata": {
  "kernelspec": {
   "display_name": "mat496-monsoon2025",
   "language": "python",
   "name": "python3"
  },
  "language_info": {
   "codemirror_mode": {
    "name": "ipython",
    "version": 3
   },
   "file_extension": ".py",
   "mimetype": "text/x-python",
   "name": "python",
   "nbconvert_exporter": "python",
   "pygments_lexer": "ipython3",
   "version": "3.12.11"
  }
 },
 "nbformat": 4,
 "nbformat_minor": 5
}
